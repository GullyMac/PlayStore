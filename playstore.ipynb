{
  "nbformat": 4,
  "nbformat_minor": 0,
  "metadata": {
    "colab": {
      "name": "playstore.ipynb",
      "provenance": [],
      "collapsed_sections": [
        "G2Wu_rP0zl37",
        "_Mjq0rwgzi_w"
      ]
    },
    "kernelspec": {
      "name": "python3",
      "display_name": "Python 3"
    }
  },
  "cells": [
    {
      "cell_type": "markdown",
      "metadata": {
        "id": "ahKOCDE1AX7v",
        "colab_type": "text"
      },
      "source": [
        "# <b>Google Play Store Apps Rating Prediction\n",
        "\n",
        "작성자 : 허은정\n",
        "\n",
        "마지막 수정 : 20.06.13 14:00"
      ]
    },
    {
      "cell_type": "code",
      "metadata": {
        "id": "hswC2ivs62Em",
        "colab_type": "code",
        "colab": {
          "base_uri": "https://localhost:8080/",
          "height": 34
        },
        "outputId": "1f7c6dfe-773a-4599-de48-ca4a02fbeb7e"
      },
      "source": [
        "# 구글 드라이브에 마운트\n",
        "from google.colab import drive\n",
        "drive.mount('/content/gdrive')"
      ],
      "execution_count": null,
      "outputs": [
        {
          "output_type": "stream",
          "text": [
            "Drive already mounted at /content/gdrive; to attempt to forcibly remount, call drive.mount(\"/content/gdrive\", force_remount=True).\n"
          ],
          "name": "stdout"
        }
      ]
    },
    {
      "cell_type": "code",
      "metadata": {
        "id": "jSh-kh9FAKpq",
        "colab_type": "code",
        "colab": {
          "base_uri": "https://localhost:8080/",
          "height": 351
        },
        "outputId": "c0e9b5e2-f6ac-4b93-fbb1-6e9c61945d5a"
      },
      "source": [
        "# 라이브러리 설치\n",
        "# 환경설정\n",
        "import os                                            # 디렉토리 설정\n",
        "os.chdir('/content/gdrive/My Drive/.')\n",
        "import warnings                                      # 경고 메세지 무시\n",
        "warnings.filterwarnings('ignore')\n",
        " \n",
        "# 데이터 전처리\n",
        "import pandas as pd                                  # 데이터 조작, 분석\n",
        "import numpy as np                                   # 행렬 연산\n",
        "import math                                          # 연산\n",
        "import random                                        # 난수 생성\n",
        "random.seed(2020)\n",
        "random_seed = 2020\n",
        " \n",
        "# 모델링\n",
        "from sklearn.model_selection import train_test_split # train, validation 데이터 나누기\n",
        "from sklearn import metrics                          # 평가 지표 측정\n",
        "from sklearn.linear_model import LinearRegression    # 다중 선형 회귀 모델링\n",
        "import lightgbm as lgb                               # lightGBM 모델링\n",
        "from keras.models import Sequential                  # 신경망 모델링\n",
        "from keras.layers import Dense\n",
        "from keras.layers import ELU\n",
        "from keras.callbacks import EarlyStopping\n",
        "from sklearn.model_selection import KFold            # K-fold CV    \n",
        "!pip install bayesian-optimization\n",
        "from bayes_opt import BayesianOptimization           # 베이지안 최적화 라이브러리  \n",
        "from functools import partial                        # 함수 변수 고정\n",
        " \n",
        "# 시각화\n",
        "import matplotlib.pyplot as plt\n",
        "import seaborn as sns\n",
        " \n",
        "# 데이터 불러오기\n",
        "data = pd.read_csv('appstore.csv')"
      ],
      "execution_count": null,
      "outputs": [
        {
          "output_type": "stream",
          "text": [
            "Requirement already satisfied: catboost in /usr/local/lib/python3.6/dist-packages (0.23.2)\n",
            "Requirement already satisfied: scipy in /usr/local/lib/python3.6/dist-packages (from catboost) (1.4.1)\n",
            "Requirement already satisfied: graphviz in /usr/local/lib/python3.6/dist-packages (from catboost) (0.10.1)\n",
            "Requirement already satisfied: pandas>=0.24.0 in /usr/local/lib/python3.6/dist-packages (from catboost) (1.0.4)\n",
            "Requirement already satisfied: numpy>=1.16.0 in /usr/local/lib/python3.6/dist-packages (from catboost) (1.18.5)\n",
            "Requirement already satisfied: plotly in /usr/local/lib/python3.6/dist-packages (from catboost) (4.4.1)\n",
            "Requirement already satisfied: matplotlib in /usr/local/lib/python3.6/dist-packages (from catboost) (3.2.1)\n",
            "Requirement already satisfied: six in /usr/local/lib/python3.6/dist-packages (from catboost) (1.12.0)\n",
            "Requirement already satisfied: python-dateutil>=2.6.1 in /usr/local/lib/python3.6/dist-packages (from pandas>=0.24.0->catboost) (2.8.1)\n",
            "Requirement already satisfied: pytz>=2017.2 in /usr/local/lib/python3.6/dist-packages (from pandas>=0.24.0->catboost) (2018.9)\n",
            "Requirement already satisfied: retrying>=1.3.3 in /usr/local/lib/python3.6/dist-packages (from plotly->catboost) (1.3.3)\n",
            "Requirement already satisfied: kiwisolver>=1.0.1 in /usr/local/lib/python3.6/dist-packages (from matplotlib->catboost) (1.2.0)\n",
            "Requirement already satisfied: pyparsing!=2.0.4,!=2.1.2,!=2.1.6,>=2.0.1 in /usr/local/lib/python3.6/dist-packages (from matplotlib->catboost) (2.4.7)\n",
            "Requirement already satisfied: cycler>=0.10 in /usr/local/lib/python3.6/dist-packages (from matplotlib->catboost) (0.10.0)\n",
            "Requirement already satisfied: bayesian-optimization in /usr/local/lib/python3.6/dist-packages (1.2.0)\n",
            "Requirement already satisfied: numpy>=1.9.0 in /usr/local/lib/python3.6/dist-packages (from bayesian-optimization) (1.18.5)\n",
            "Requirement already satisfied: scipy>=0.14.0 in /usr/local/lib/python3.6/dist-packages (from bayesian-optimization) (1.4.1)\n",
            "Requirement already satisfied: scikit-learn>=0.18.0 in /usr/local/lib/python3.6/dist-packages (from bayesian-optimization) (0.22.2.post1)\n",
            "Requirement already satisfied: joblib>=0.11 in /usr/local/lib/python3.6/dist-packages (from scikit-learn>=0.18.0->bayesian-optimization) (0.15.1)\n"
          ],
          "name": "stdout"
        }
      ]
    },
    {
      "cell_type": "markdown",
      "metadata": {
        "id": "G2Wu_rP0zl37",
        "colab_type": "text"
      },
      "source": [
        "###### 정리"
      ]
    },
    {
      "cell_type": "code",
      "metadata": {
        "id": "1qsgs2rJ3jX3",
        "colab_type": "code",
        "colab": {}
      },
      "source": [
        "data = pd.read_csv('appstore.csv')"
      ],
      "execution_count": null,
      "outputs": []
    },
    {
      "cell_type": "code",
      "metadata": {
        "id": "EUCdHNn9yyin",
        "colab_type": "code",
        "colab": {}
      },
      "source": [
        "###### 전체적인 데이터 점검"
      ],
      "execution_count": null,
      "outputs": []
    },
    {
      "cell_type": "code",
      "metadata": {
        "id": "QZT-YB3yyzan",
        "colab_type": "code",
        "colab": {
          "base_uri": "https://localhost:8080/",
          "height": 110
        },
        "outputId": "276ed622-76c1-4bc5-b83b-4f5842b11432"
      },
      "source": [
        "# 열이 밀려있는 경우, 검색으로 대체값 찾아 넣음\n",
        "data[data.Category == '1.9']"
      ],
      "execution_count": null,
      "outputs": [
        {
          "output_type": "execute_result",
          "data": {
            "text/html": [
              "<div>\n",
              "<style scoped>\n",
              "    .dataframe tbody tr th:only-of-type {\n",
              "        vertical-align: middle;\n",
              "    }\n",
              "\n",
              "    .dataframe tbody tr th {\n",
              "        vertical-align: top;\n",
              "    }\n",
              "\n",
              "    .dataframe thead th {\n",
              "        text-align: right;\n",
              "    }\n",
              "</style>\n",
              "<table border=\"1\" class=\"dataframe\">\n",
              "  <thead>\n",
              "    <tr style=\"text-align: right;\">\n",
              "      <th></th>\n",
              "      <th>App</th>\n",
              "      <th>Category</th>\n",
              "      <th>Rating</th>\n",
              "      <th>Reviews</th>\n",
              "      <th>Size</th>\n",
              "      <th>Installs</th>\n",
              "      <th>Type</th>\n",
              "      <th>Price</th>\n",
              "      <th>Content Rating</th>\n",
              "      <th>Genres</th>\n",
              "      <th>Last Updated</th>\n",
              "      <th>Current Ver</th>\n",
              "      <th>Android Ver</th>\n",
              "    </tr>\n",
              "  </thead>\n",
              "  <tbody>\n",
              "    <tr>\n",
              "      <th>10472</th>\n",
              "      <td>Life Made WI-Fi Touchscreen Photo Frame</td>\n",
              "      <td>1.9</td>\n",
              "      <td>19.0</td>\n",
              "      <td>3.0M</td>\n",
              "      <td>1,000+</td>\n",
              "      <td>Free</td>\n",
              "      <td>0</td>\n",
              "      <td>Everyone</td>\n",
              "      <td>NaN</td>\n",
              "      <td>February 11, 2018</td>\n",
              "      <td>1.0.19</td>\n",
              "      <td>4.0 and up</td>\n",
              "      <td>NaN</td>\n",
              "    </tr>\n",
              "  </tbody>\n",
              "</table>\n",
              "</div>"
            ],
            "text/plain": [
              "                                           App Category  ...  Current Ver Android Ver\n",
              "10472  Life Made WI-Fi Touchscreen Photo Frame      1.9  ...   4.0 and up         NaN\n",
              "\n",
              "[1 rows x 13 columns]"
            ]
          },
          "metadata": {
            "tags": []
          },
          "execution_count": 59
        }
      ]
    },
    {
      "cell_type": "code",
      "metadata": {
        "id": "K14GnKf9yzlw",
        "colab_type": "code",
        "colab": {}
      },
      "source": [
        "temp = data.iloc[10472, 1:12]\n",
        "temp.index = data.columns[2:13]\n",
        "data.iloc[10472, 2:13] = temp\n",
        "data.iloc[10472, 1], data.iloc[10472, 9] = 'LIFESTYLE', 'Lifestyle'"
      ],
      "execution_count": null,
      "outputs": []
    },
    {
      "cell_type": "code",
      "metadata": {
        "id": "J4ajNwbny0CV",
        "colab_type": "code",
        "colab": {
          "base_uri": "https://localhost:8080/",
          "height": 77
        },
        "outputId": "19fcdd3a-1b18-44ea-d9d7-0ad70c306a3e"
      },
      "source": [
        "data[data.App == 'Life Made WI-Fi Touchscreen Photo Frame']"
      ],
      "execution_count": null,
      "outputs": [
        {
          "output_type": "execute_result",
          "data": {
            "text/html": [
              "<div>\n",
              "<style scoped>\n",
              "    .dataframe tbody tr th:only-of-type {\n",
              "        vertical-align: middle;\n",
              "    }\n",
              "\n",
              "    .dataframe tbody tr th {\n",
              "        vertical-align: top;\n",
              "    }\n",
              "\n",
              "    .dataframe thead th {\n",
              "        text-align: right;\n",
              "    }\n",
              "</style>\n",
              "<table border=\"1\" class=\"dataframe\">\n",
              "  <thead>\n",
              "    <tr style=\"text-align: right;\">\n",
              "      <th></th>\n",
              "      <th>App</th>\n",
              "      <th>Category</th>\n",
              "      <th>Rating</th>\n",
              "      <th>Reviews</th>\n",
              "      <th>Size</th>\n",
              "      <th>Installs</th>\n",
              "      <th>Type</th>\n",
              "      <th>Price</th>\n",
              "      <th>Content Rating</th>\n",
              "      <th>Genres</th>\n",
              "      <th>Last Updated</th>\n",
              "      <th>Current Ver</th>\n",
              "      <th>Android Ver</th>\n",
              "    </tr>\n",
              "  </thead>\n",
              "  <tbody>\n",
              "    <tr>\n",
              "      <th>10472</th>\n",
              "      <td>Life Made WI-Fi Touchscreen Photo Frame</td>\n",
              "      <td>LIFESTYLE</td>\n",
              "      <td>1.9</td>\n",
              "      <td>19</td>\n",
              "      <td>3.0M</td>\n",
              "      <td>1,000+</td>\n",
              "      <td>Free</td>\n",
              "      <td>0</td>\n",
              "      <td>Everyone</td>\n",
              "      <td>Lifestyle</td>\n",
              "      <td>February 11, 2018</td>\n",
              "      <td>1.0.19</td>\n",
              "      <td>4.0 and up</td>\n",
              "    </tr>\n",
              "  </tbody>\n",
              "</table>\n",
              "</div>"
            ],
            "text/plain": [
              "                                           App  ... Android Ver\n",
              "10472  Life Made WI-Fi Touchscreen Photo Frame  ...  4.0 and up\n",
              "\n",
              "[1 rows x 13 columns]"
            ]
          },
          "metadata": {
            "tags": []
          },
          "execution_count": 10
        }
      ]
    },
    {
      "cell_type": "code",
      "metadata": {
        "id": "FY_6jnKN0Wlq",
        "colab_type": "code",
        "colab": {
          "base_uri": "https://localhost:8080/",
          "height": 34
        },
        "outputId": "6e394efa-b0ea-49ad-8a4d-b76265dfbc12"
      },
      "source": [
        "# 중복 값\n",
        "temp = data[data.duplicated(['App'])]\n",
        "temp.shape"
      ],
      "execution_count": null,
      "outputs": [
        {
          "output_type": "execute_result",
          "data": {
            "text/plain": [
              "(1181, 13)"
            ]
          },
          "metadata": {
            "tags": []
          },
          "execution_count": 31
        }
      ]
    },
    {
      "cell_type": "code",
      "metadata": {
        "id": "95_6OL2m01wE",
        "colab_type": "code",
        "colab": {
          "base_uri": "https://localhost:8080/",
          "height": 136
        },
        "outputId": "bce00eaf-d59a-4fcb-b16e-3da155f185c4"
      },
      "source": [
        "data[data.App == 'Box']"
      ],
      "execution_count": null,
      "outputs": [
        {
          "output_type": "execute_result",
          "data": {
            "text/html": [
              "<div>\n",
              "<style scoped>\n",
              "    .dataframe tbody tr th:only-of-type {\n",
              "        vertical-align: middle;\n",
              "    }\n",
              "\n",
              "    .dataframe tbody tr th {\n",
              "        vertical-align: top;\n",
              "    }\n",
              "\n",
              "    .dataframe thead th {\n",
              "        text-align: right;\n",
              "    }\n",
              "</style>\n",
              "<table border=\"1\" class=\"dataframe\">\n",
              "  <thead>\n",
              "    <tr style=\"text-align: right;\">\n",
              "      <th></th>\n",
              "      <th>App</th>\n",
              "      <th>Category</th>\n",
              "      <th>Rating</th>\n",
              "      <th>Reviews</th>\n",
              "      <th>Size</th>\n",
              "      <th>Installs</th>\n",
              "      <th>Type</th>\n",
              "      <th>Price</th>\n",
              "      <th>Content Rating</th>\n",
              "      <th>Genres</th>\n",
              "      <th>Last Updated</th>\n",
              "      <th>Current Ver</th>\n",
              "      <th>Android Ver</th>\n",
              "    </tr>\n",
              "  </thead>\n",
              "  <tbody>\n",
              "    <tr>\n",
              "      <th>204</th>\n",
              "      <td>Box</td>\n",
              "      <td>BUSINESS</td>\n",
              "      <td>4.2</td>\n",
              "      <td>159872</td>\n",
              "      <td>Varies with device</td>\n",
              "      <td>10,000,000+</td>\n",
              "      <td>Free</td>\n",
              "      <td>0</td>\n",
              "      <td>Everyone</td>\n",
              "      <td>Business</td>\n",
              "      <td>July 31, 2018</td>\n",
              "      <td>Varies with device</td>\n",
              "      <td>Varies with device</td>\n",
              "    </tr>\n",
              "    <tr>\n",
              "      <th>236</th>\n",
              "      <td>Box</td>\n",
              "      <td>BUSINESS</td>\n",
              "      <td>4.2</td>\n",
              "      <td>159872</td>\n",
              "      <td>Varies with device</td>\n",
              "      <td>10,000,000+</td>\n",
              "      <td>Free</td>\n",
              "      <td>0</td>\n",
              "      <td>Everyone</td>\n",
              "      <td>Business</td>\n",
              "      <td>July 31, 2018</td>\n",
              "      <td>Varies with device</td>\n",
              "      <td>Varies with device</td>\n",
              "    </tr>\n",
              "    <tr>\n",
              "      <th>265</th>\n",
              "      <td>Box</td>\n",
              "      <td>BUSINESS</td>\n",
              "      <td>4.2</td>\n",
              "      <td>159872</td>\n",
              "      <td>Varies with device</td>\n",
              "      <td>10,000,000+</td>\n",
              "      <td>Free</td>\n",
              "      <td>0</td>\n",
              "      <td>Everyone</td>\n",
              "      <td>Business</td>\n",
              "      <td>July 31, 2018</td>\n",
              "      <td>Varies with device</td>\n",
              "      <td>Varies with device</td>\n",
              "    </tr>\n",
              "  </tbody>\n",
              "</table>\n",
              "</div>"
            ],
            "text/plain": [
              "     App  Category  ...         Current Ver         Android Ver\n",
              "204  Box  BUSINESS  ...  Varies with device  Varies with device\n",
              "236  Box  BUSINESS  ...  Varies with device  Varies with device\n",
              "265  Box  BUSINESS  ...  Varies with device  Varies with device\n",
              "\n",
              "[3 rows x 13 columns]"
            ]
          },
          "metadata": {
            "tags": []
          },
          "execution_count": 32
        }
      ]
    },
    {
      "cell_type": "code",
      "metadata": {
        "id": "M0_tEHUN0WhK",
        "colab_type": "code",
        "colab": {
          "base_uri": "https://localhost:8080/",
          "height": 34
        },
        "outputId": "5228d711-8b54-4dae-e73b-e1677d5b5910"
      },
      "source": [
        "data = data.drop_duplicates(['App'], keep='first')\n",
        "data.shape"
      ],
      "execution_count": null,
      "outputs": [
        {
          "output_type": "execute_result",
          "data": {
            "text/plain": [
              "(9660, 13)"
            ]
          },
          "metadata": {
            "tags": []
          },
          "execution_count": 73
        }
      ]
    },
    {
      "cell_type": "code",
      "metadata": {
        "id": "vLF-taxD2u3n",
        "colab_type": "code",
        "colab": {
          "base_uri": "https://localhost:8080/",
          "height": 586
        },
        "outputId": "fb22d9f3-94cc-483b-c167-b8d93432add3"
      },
      "source": [
        "# 종속변수 Rating에 nan값 1463건\n",
        "data[data.Rating.isna()]"
      ],
      "execution_count": null,
      "outputs": [
        {
          "output_type": "execute_result",
          "data": {
            "text/html": [
              "<div>\n",
              "<style scoped>\n",
              "    .dataframe tbody tr th:only-of-type {\n",
              "        vertical-align: middle;\n",
              "    }\n",
              "\n",
              "    .dataframe tbody tr th {\n",
              "        vertical-align: top;\n",
              "    }\n",
              "\n",
              "    .dataframe thead th {\n",
              "        text-align: right;\n",
              "    }\n",
              "</style>\n",
              "<table border=\"1\" class=\"dataframe\">\n",
              "  <thead>\n",
              "    <tr style=\"text-align: right;\">\n",
              "      <th></th>\n",
              "      <th>App</th>\n",
              "      <th>Category</th>\n",
              "      <th>Rating</th>\n",
              "      <th>Reviews</th>\n",
              "      <th>Size</th>\n",
              "      <th>Installs</th>\n",
              "      <th>Type</th>\n",
              "      <th>Price</th>\n",
              "      <th>Content Rating</th>\n",
              "      <th>Genres</th>\n",
              "      <th>Last Updated</th>\n",
              "      <th>Current Ver</th>\n",
              "      <th>Android Ver</th>\n",
              "    </tr>\n",
              "  </thead>\n",
              "  <tbody>\n",
              "    <tr>\n",
              "      <th>23</th>\n",
              "      <td>Mcqueen Coloring pages</td>\n",
              "      <td>ART_AND_DESIGN</td>\n",
              "      <td>NaN</td>\n",
              "      <td>61</td>\n",
              "      <td>7.0M</td>\n",
              "      <td>100,000+</td>\n",
              "      <td>Free</td>\n",
              "      <td>0</td>\n",
              "      <td>Everyone</td>\n",
              "      <td>Art &amp; Design;Action &amp; Adventure</td>\n",
              "      <td>March 7, 2018</td>\n",
              "      <td>1.0.0</td>\n",
              "      <td>4.1 and up</td>\n",
              "    </tr>\n",
              "    <tr>\n",
              "      <th>113</th>\n",
              "      <td>Wrinkles and rejuvenation</td>\n",
              "      <td>BEAUTY</td>\n",
              "      <td>NaN</td>\n",
              "      <td>182</td>\n",
              "      <td>5.7M</td>\n",
              "      <td>100,000+</td>\n",
              "      <td>Free</td>\n",
              "      <td>0</td>\n",
              "      <td>Everyone 10+</td>\n",
              "      <td>Beauty</td>\n",
              "      <td>September 20, 2017</td>\n",
              "      <td>8.0</td>\n",
              "      <td>3.0 and up</td>\n",
              "    </tr>\n",
              "    <tr>\n",
              "      <th>123</th>\n",
              "      <td>Manicure - nail design</td>\n",
              "      <td>BEAUTY</td>\n",
              "      <td>NaN</td>\n",
              "      <td>119</td>\n",
              "      <td>3.7M</td>\n",
              "      <td>50,000+</td>\n",
              "      <td>Free</td>\n",
              "      <td>0</td>\n",
              "      <td>Everyone</td>\n",
              "      <td>Beauty</td>\n",
              "      <td>July 23, 2018</td>\n",
              "      <td>1.3</td>\n",
              "      <td>4.1 and up</td>\n",
              "    </tr>\n",
              "    <tr>\n",
              "      <th>126</th>\n",
              "      <td>Skin Care and Natural Beauty</td>\n",
              "      <td>BEAUTY</td>\n",
              "      <td>NaN</td>\n",
              "      <td>654</td>\n",
              "      <td>7.4M</td>\n",
              "      <td>100,000+</td>\n",
              "      <td>Free</td>\n",
              "      <td>0</td>\n",
              "      <td>Teen</td>\n",
              "      <td>Beauty</td>\n",
              "      <td>July 17, 2018</td>\n",
              "      <td>1.15</td>\n",
              "      <td>4.1 and up</td>\n",
              "    </tr>\n",
              "    <tr>\n",
              "      <th>129</th>\n",
              "      <td>Secrets of beauty, youth and health</td>\n",
              "      <td>BEAUTY</td>\n",
              "      <td>NaN</td>\n",
              "      <td>77</td>\n",
              "      <td>2.9M</td>\n",
              "      <td>10,000+</td>\n",
              "      <td>Free</td>\n",
              "      <td>0</td>\n",
              "      <td>Mature 17+</td>\n",
              "      <td>Beauty</td>\n",
              "      <td>August 8, 2017</td>\n",
              "      <td>2.0</td>\n",
              "      <td>2.3 and up</td>\n",
              "    </tr>\n",
              "    <tr>\n",
              "      <th>...</th>\n",
              "      <td>...</td>\n",
              "      <td>...</td>\n",
              "      <td>...</td>\n",
              "      <td>...</td>\n",
              "      <td>...</td>\n",
              "      <td>...</td>\n",
              "      <td>...</td>\n",
              "      <td>...</td>\n",
              "      <td>...</td>\n",
              "      <td>...</td>\n",
              "      <td>...</td>\n",
              "      <td>...</td>\n",
              "      <td>...</td>\n",
              "    </tr>\n",
              "    <tr>\n",
              "      <th>10824</th>\n",
              "      <td>Cardio-FR</td>\n",
              "      <td>MEDICAL</td>\n",
              "      <td>NaN</td>\n",
              "      <td>67</td>\n",
              "      <td>82M</td>\n",
              "      <td>10,000+</td>\n",
              "      <td>Free</td>\n",
              "      <td>0</td>\n",
              "      <td>Everyone</td>\n",
              "      <td>Medical</td>\n",
              "      <td>July 31, 2018</td>\n",
              "      <td>2.2.2</td>\n",
              "      <td>4.4 and up</td>\n",
              "    </tr>\n",
              "    <tr>\n",
              "      <th>10825</th>\n",
              "      <td>Naruto &amp; Boruto FR</td>\n",
              "      <td>SOCIAL</td>\n",
              "      <td>NaN</td>\n",
              "      <td>7</td>\n",
              "      <td>7.7M</td>\n",
              "      <td>100+</td>\n",
              "      <td>Free</td>\n",
              "      <td>0</td>\n",
              "      <td>Teen</td>\n",
              "      <td>Social</td>\n",
              "      <td>February 2, 2018</td>\n",
              "      <td>1.0</td>\n",
              "      <td>4.0 and up</td>\n",
              "    </tr>\n",
              "    <tr>\n",
              "      <th>10831</th>\n",
              "      <td>payermonstationnement.fr</td>\n",
              "      <td>MAPS_AND_NAVIGATION</td>\n",
              "      <td>NaN</td>\n",
              "      <td>38</td>\n",
              "      <td>9.8M</td>\n",
              "      <td>5,000+</td>\n",
              "      <td>Free</td>\n",
              "      <td>0</td>\n",
              "      <td>Everyone</td>\n",
              "      <td>Maps &amp; Navigation</td>\n",
              "      <td>June 13, 2018</td>\n",
              "      <td>2.0.148.0</td>\n",
              "      <td>4.0 and up</td>\n",
              "    </tr>\n",
              "    <tr>\n",
              "      <th>10835</th>\n",
              "      <td>FR Forms</td>\n",
              "      <td>BUSINESS</td>\n",
              "      <td>NaN</td>\n",
              "      <td>0</td>\n",
              "      <td>9.6M</td>\n",
              "      <td>10+</td>\n",
              "      <td>Free</td>\n",
              "      <td>0</td>\n",
              "      <td>Everyone</td>\n",
              "      <td>Business</td>\n",
              "      <td>September 29, 2016</td>\n",
              "      <td>1.1.5</td>\n",
              "      <td>4.0 and up</td>\n",
              "    </tr>\n",
              "    <tr>\n",
              "      <th>10838</th>\n",
              "      <td>Parkinson Exercices FR</td>\n",
              "      <td>MEDICAL</td>\n",
              "      <td>NaN</td>\n",
              "      <td>3</td>\n",
              "      <td>9.5M</td>\n",
              "      <td>1,000+</td>\n",
              "      <td>Free</td>\n",
              "      <td>0</td>\n",
              "      <td>Everyone</td>\n",
              "      <td>Medical</td>\n",
              "      <td>January 20, 2017</td>\n",
              "      <td>1.0</td>\n",
              "      <td>2.2 and up</td>\n",
              "    </tr>\n",
              "  </tbody>\n",
              "</table>\n",
              "<p>1463 rows × 13 columns</p>\n",
              "</div>"
            ],
            "text/plain": [
              "                                       App  ... Android Ver\n",
              "23                  Mcqueen Coloring pages  ...  4.1 and up\n",
              "113              Wrinkles and rejuvenation  ...  3.0 and up\n",
              "123                 Manicure - nail design  ...  4.1 and up\n",
              "126           Skin Care and Natural Beauty  ...  4.1 and up\n",
              "129    Secrets of beauty, youth and health  ...  2.3 and up\n",
              "...                                    ...  ...         ...\n",
              "10824                            Cardio-FR  ...  4.4 and up\n",
              "10825                   Naruto & Boruto FR  ...  4.0 and up\n",
              "10831             payermonstationnement.fr  ...  4.0 and up\n",
              "10835                             FR Forms  ...  4.0 and up\n",
              "10838               Parkinson Exercices FR  ...  2.2 and up\n",
              "\n",
              "[1463 rows x 13 columns]"
            ]
          },
          "metadata": {
            "tags": []
          },
          "execution_count": 35
        }
      ]
    },
    {
      "cell_type": "code",
      "metadata": {
        "id": "ZbUqpKrt2u0e",
        "colab_type": "code",
        "colab": {
          "base_uri": "https://localhost:8080/",
          "height": 34
        },
        "outputId": "48191f1d-bed8-4f25-f065-5c3de80cfa2a"
      },
      "source": [
        "# nan 값 가지는 건 없애고 데이터 타입 float로 변환\n",
        "data = data.drop(data[data.Rating.isna()].index)\n",
        "data.Rating = data.Rating.astype(float)\n",
        "data.shape"
      ],
      "execution_count": null,
      "outputs": [
        {
          "output_type": "execute_result",
          "data": {
            "text/plain": [
              "(8197, 13)"
            ]
          },
          "metadata": {
            "tags": []
          },
          "execution_count": 74
        }
      ]
    },
    {
      "cell_type": "code",
      "metadata": {
        "id": "dq-lqf220Wey",
        "colab_type": "code",
        "colab": {
          "base_uri": "https://localhost:8080/",
          "height": 313
        },
        "outputId": "9e45f200-818f-474b-9024-830a599bc4a8"
      },
      "source": [
        "# Category 변수는 nan 값과 이상값이 없음, 더미 변수로 변환\n",
        "data.head()"
      ],
      "execution_count": null,
      "outputs": [
        {
          "output_type": "execute_result",
          "data": {
            "text/html": [
              "<div>\n",
              "<style scoped>\n",
              "    .dataframe tbody tr th:only-of-type {\n",
              "        vertical-align: middle;\n",
              "    }\n",
              "\n",
              "    .dataframe tbody tr th {\n",
              "        vertical-align: top;\n",
              "    }\n",
              "\n",
              "    .dataframe thead th {\n",
              "        text-align: right;\n",
              "    }\n",
              "</style>\n",
              "<table border=\"1\" class=\"dataframe\">\n",
              "  <thead>\n",
              "    <tr style=\"text-align: right;\">\n",
              "      <th></th>\n",
              "      <th>App</th>\n",
              "      <th>Category</th>\n",
              "      <th>Rating</th>\n",
              "      <th>Reviews</th>\n",
              "      <th>Size</th>\n",
              "      <th>Installs</th>\n",
              "      <th>Type</th>\n",
              "      <th>Price</th>\n",
              "      <th>Content Rating</th>\n",
              "      <th>Genres</th>\n",
              "      <th>Last Updated</th>\n",
              "      <th>Current Ver</th>\n",
              "      <th>Android Ver</th>\n",
              "    </tr>\n",
              "  </thead>\n",
              "  <tbody>\n",
              "    <tr>\n",
              "      <th>0</th>\n",
              "      <td>Photo Editor &amp; Candy Camera &amp; Grid &amp; ScrapBook</td>\n",
              "      <td>ART_AND_DESIGN</td>\n",
              "      <td>4.1</td>\n",
              "      <td>159</td>\n",
              "      <td>19M</td>\n",
              "      <td>10,000+</td>\n",
              "      <td>Free</td>\n",
              "      <td>0</td>\n",
              "      <td>Everyone</td>\n",
              "      <td>Art &amp; Design</td>\n",
              "      <td>January 7, 2018</td>\n",
              "      <td>1.0.0</td>\n",
              "      <td>4.0.3 and up</td>\n",
              "    </tr>\n",
              "    <tr>\n",
              "      <th>1</th>\n",
              "      <td>Coloring book moana</td>\n",
              "      <td>ART_AND_DESIGN</td>\n",
              "      <td>3.9</td>\n",
              "      <td>967</td>\n",
              "      <td>14M</td>\n",
              "      <td>500,000+</td>\n",
              "      <td>Free</td>\n",
              "      <td>0</td>\n",
              "      <td>Everyone</td>\n",
              "      <td>Art &amp; Design;Pretend Play</td>\n",
              "      <td>January 15, 2018</td>\n",
              "      <td>2.0.0</td>\n",
              "      <td>4.0.3 and up</td>\n",
              "    </tr>\n",
              "    <tr>\n",
              "      <th>2</th>\n",
              "      <td>U Launcher Lite – FREE Live Cool Themes, Hide ...</td>\n",
              "      <td>ART_AND_DESIGN</td>\n",
              "      <td>4.7</td>\n",
              "      <td>87510</td>\n",
              "      <td>8.7M</td>\n",
              "      <td>5,000,000+</td>\n",
              "      <td>Free</td>\n",
              "      <td>0</td>\n",
              "      <td>Everyone</td>\n",
              "      <td>Art &amp; Design</td>\n",
              "      <td>August 1, 2018</td>\n",
              "      <td>1.2.4</td>\n",
              "      <td>4.0.3 and up</td>\n",
              "    </tr>\n",
              "    <tr>\n",
              "      <th>3</th>\n",
              "      <td>Sketch - Draw &amp; Paint</td>\n",
              "      <td>ART_AND_DESIGN</td>\n",
              "      <td>4.5</td>\n",
              "      <td>215644</td>\n",
              "      <td>25M</td>\n",
              "      <td>50,000,000+</td>\n",
              "      <td>Free</td>\n",
              "      <td>0</td>\n",
              "      <td>Teen</td>\n",
              "      <td>Art &amp; Design</td>\n",
              "      <td>June 8, 2018</td>\n",
              "      <td>Varies with device</td>\n",
              "      <td>4.2 and up</td>\n",
              "    </tr>\n",
              "    <tr>\n",
              "      <th>4</th>\n",
              "      <td>Pixel Draw - Number Art Coloring Book</td>\n",
              "      <td>ART_AND_DESIGN</td>\n",
              "      <td>4.3</td>\n",
              "      <td>967</td>\n",
              "      <td>2.8M</td>\n",
              "      <td>100,000+</td>\n",
              "      <td>Free</td>\n",
              "      <td>0</td>\n",
              "      <td>Everyone</td>\n",
              "      <td>Art &amp; Design;Creativity</td>\n",
              "      <td>June 20, 2018</td>\n",
              "      <td>1.1</td>\n",
              "      <td>4.4 and up</td>\n",
              "    </tr>\n",
              "  </tbody>\n",
              "</table>\n",
              "</div>"
            ],
            "text/plain": [
              "                                                 App  ...   Android Ver\n",
              "0     Photo Editor & Candy Camera & Grid & ScrapBook  ...  4.0.3 and up\n",
              "1                                Coloring book moana  ...  4.0.3 and up\n",
              "2  U Launcher Lite – FREE Live Cool Themes, Hide ...  ...  4.0.3 and up\n",
              "3                              Sketch - Draw & Paint  ...    4.2 and up\n",
              "4              Pixel Draw - Number Art Coloring Book  ...    4.4 and up\n",
              "\n",
              "[5 rows x 13 columns]"
            ]
          },
          "metadata": {
            "tags": []
          },
          "execution_count": 47
        }
      ]
    },
    {
      "cell_type": "code",
      "metadata": {
        "id": "-9pVu64F0Wc1",
        "colab_type": "code",
        "colab": {
          "base_uri": "https://localhost:8080/",
          "height": 195
        },
        "outputId": "9798421e-0ac3-436f-c0a8-c2b328a0692f"
      },
      "source": [
        "data = pd.concat([data, pd.get_dummies(data.Category)], axis=1)\n",
        "data.loc[:,['App','ART_AND_DESIGN','WEATHER','FAMILY']].head()"
      ],
      "execution_count": null,
      "outputs": [
        {
          "output_type": "execute_result",
          "data": {
            "text/html": [
              "<div>\n",
              "<style scoped>\n",
              "    .dataframe tbody tr th:only-of-type {\n",
              "        vertical-align: middle;\n",
              "    }\n",
              "\n",
              "    .dataframe tbody tr th {\n",
              "        vertical-align: top;\n",
              "    }\n",
              "\n",
              "    .dataframe thead th {\n",
              "        text-align: right;\n",
              "    }\n",
              "</style>\n",
              "<table border=\"1\" class=\"dataframe\">\n",
              "  <thead>\n",
              "    <tr style=\"text-align: right;\">\n",
              "      <th></th>\n",
              "      <th>App</th>\n",
              "      <th>ART_AND_DESIGN</th>\n",
              "      <th>WEATHER</th>\n",
              "      <th>FAMILY</th>\n",
              "    </tr>\n",
              "  </thead>\n",
              "  <tbody>\n",
              "    <tr>\n",
              "      <th>0</th>\n",
              "      <td>Photo Editor &amp; Candy Camera &amp; Grid &amp; ScrapBook</td>\n",
              "      <td>1</td>\n",
              "      <td>0</td>\n",
              "      <td>0</td>\n",
              "    </tr>\n",
              "    <tr>\n",
              "      <th>1</th>\n",
              "      <td>Coloring book moana</td>\n",
              "      <td>1</td>\n",
              "      <td>0</td>\n",
              "      <td>0</td>\n",
              "    </tr>\n",
              "    <tr>\n",
              "      <th>2</th>\n",
              "      <td>U Launcher Lite – FREE Live Cool Themes, Hide ...</td>\n",
              "      <td>1</td>\n",
              "      <td>0</td>\n",
              "      <td>0</td>\n",
              "    </tr>\n",
              "    <tr>\n",
              "      <th>3</th>\n",
              "      <td>Sketch - Draw &amp; Paint</td>\n",
              "      <td>1</td>\n",
              "      <td>0</td>\n",
              "      <td>0</td>\n",
              "    </tr>\n",
              "    <tr>\n",
              "      <th>4</th>\n",
              "      <td>Pixel Draw - Number Art Coloring Book</td>\n",
              "      <td>1</td>\n",
              "      <td>0</td>\n",
              "      <td>0</td>\n",
              "    </tr>\n",
              "  </tbody>\n",
              "</table>\n",
              "</div>"
            ],
            "text/plain": [
              "                                                 App  ...  FAMILY\n",
              "0     Photo Editor & Candy Camera & Grid & ScrapBook  ...       0\n",
              "1                                Coloring book moana  ...       0\n",
              "2  U Launcher Lite – FREE Live Cool Themes, Hide ...  ...       0\n",
              "3                              Sketch - Draw & Paint  ...       0\n",
              "4              Pixel Draw - Number Art Coloring Book  ...       0\n",
              "\n",
              "[5 rows x 4 columns]"
            ]
          },
          "metadata": {
            "tags": []
          },
          "execution_count": 75
        }
      ]
    },
    {
      "cell_type": "code",
      "metadata": {
        "id": "mki2n83IiM_u",
        "colab_type": "code",
        "colab": {}
      },
      "source": [
        "temp = data.iloc[:,:2].groupby(['Category']).count()\n",
        "temp.columns = ['count']\n",
        "temp = temp.sort_values(by=['count'], ascending=False)"
      ],
      "execution_count": null,
      "outputs": []
    },
    {
      "cell_type": "code",
      "metadata": {
        "id": "chZXZrbVhIu6",
        "colab_type": "code",
        "colab": {
          "base_uri": "https://localhost:8080/",
          "height": 468
        },
        "outputId": "9f539ab9-c282-41a2-991d-e16e83984d2d"
      },
      "source": [
        "plt.figure(figsize=(10,5))\n",
        "plt.xlabel('Category')\n",
        "plt.ylabel('Frequency')\n",
        "plt.xticks(rotation=90)\n",
        "plt.bar(temp.index, temp['count'], color='#ffbc00')"
      ],
      "execution_count": null,
      "outputs": [
        {
          "output_type": "execute_result",
          "data": {
            "text/plain": [
              "<BarContainer object of 33 artists>"
            ]
          },
          "metadata": {
            "tags": []
          },
          "execution_count": 252
        },
        {
          "output_type": "display_data",
          "data": {
            "image/png": "[encoded data removed]",
            "text/plain": [
              "<Figure size 720x360 with 1 Axes>"
            ]
          },
          "metadata": {
            "tags": [],
            "needs_background": "light"
          }
        }
      ]
    },
    {
      "cell_type": "code",
      "metadata": {
        "id": "f75b7sLyeQhH",
        "colab_type": "code",
        "colab": {
          "base_uri": "https://localhost:8080/",
          "height": 358
        },
        "outputId": "b225e998-c669-4aa1-e9af-b49a4a5338db"
      },
      "source": [
        "plt.figure(figsize=(10,3))\n",
        "plt.xticks(rotation=90)\n",
        "sns.boxplot(data.Category, data.Rating, palette=['#ffbc00']*23)"
      ],
      "execution_count": null,
      "outputs": [
        {
          "output_type": "execute_result",
          "data": {
            "text/plain": [
              "<matplotlib.axes._subplots.AxesSubplot at 0x7f128b960c18>"
            ]
          },
          "metadata": {
            "tags": []
          },
          "execution_count": 255
        },
        {
          "output_type": "display_data",
          "data": {
            "image/png": "[encoded data removed]",
            "text/plain": [
              "<Figure size 720x216 with 1 Axes>"
            ]
          },
          "metadata": {
            "tags": [],
            "needs_background": "light"
          }
        }
      ]
    },
    {
      "cell_type": "code",
      "metadata": {
        "id": "9pvPXfRu0WZM",
        "colab_type": "code",
        "colab": {}
      },
      "source": [
        "# Reviews 변수 nan값 없음, int로 데이터 타입 변환\n",
        "data.Reviews = data.Reviews.astype(int)"
      ],
      "execution_count": null,
      "outputs": []
    },
    {
      "cell_type": "code",
      "metadata": {
        "id": "jGtyMLgo0WX6",
        "colab_type": "code",
        "colab": {
          "base_uri": "https://localhost:8080/",
          "height": 161
        },
        "outputId": "58c774df-d79e-40bd-ec86-7ab5be4d40c9"
      },
      "source": [
        "plt.figure(figsize=(3,1.5))\n",
        "plt.xlabel('Reviews (10million)')\n",
        "plt.ylabel('Ratings')\n",
        "plt.scatter(data.Reviews, data.Rating, alpha=0.25, color='#ffbc00')"
      ],
      "execution_count": null,
      "outputs": [
        {
          "output_type": "execute_result",
          "data": {
            "text/plain": [
              "<matplotlib.collections.PathCollection at 0x7f1289b065c0>"
            ]
          },
          "metadata": {
            "tags": []
          },
          "execution_count": 293
        },
        {
          "output_type": "display_data",
          "data": {
            "image/png": "[encoded data removed]",
            "text/plain": [
              "<Figure size 216x108 with 1 Axes>"
            ]
          },
          "metadata": {
            "tags": [],
            "needs_background": "light"
          }
        }
      ]
    },
    {
      "cell_type": "code",
      "metadata": {
        "id": "6phL02iYMb-V",
        "colab_type": "code",
        "colab": {
          "base_uri": "https://localhost:8080/",
          "height": 161
        },
        "outputId": "3a7a7d5d-68a4-4f54-fb13-e5b55229bef4"
      },
      "source": [
        "# 로그 변환, Reviews 최소값이 1이라 log(x)\n",
        "plt.figure(figsize=(3,1.5))\n",
        "plt.xlabel('log(Reviews)')\n",
        "plt.ylabel('Ratings')\n",
        "plt.scatter(data.Reviews.map(lambda x: math.log(x)), data.Rating, alpha=0.1, color='#ffbc00')"
      ],
      "execution_count": null,
      "outputs": [
        {
          "output_type": "execute_result",
          "data": {
            "text/plain": [
              "<matplotlib.collections.PathCollection at 0x7f128a048ef0>"
            ]
          },
          "metadata": {
            "tags": []
          },
          "execution_count": 294
        },
        {
          "output_type": "display_data",
          "data": {
            "image/png": "[encoded data removed]",
            "text/plain": [
              "<Figure size 216x108 with 1 Axes>"
            ]
          },
          "metadata": {
            "tags": [],
            "needs_background": "light"
          }
        }
      ]
    },
    {
      "cell_type": "code",
      "metadata": {
        "id": "O-C3bgjbHQVm",
        "colab_type": "code",
        "colab": {}
      },
      "source": [
        "data.Reviews = data.Reviews.map(lambda x: math.log(x))"
      ],
      "execution_count": null,
      "outputs": []
    },
    {
      "cell_type": "code",
      "metadata": {
        "id": "r_loXRyS9Kkb",
        "colab_type": "code",
        "colab": {
          "base_uri": "https://localhost:8080/",
          "height": 136
        },
        "outputId": "a32b8f9f-e27c-4e84-9a13-a3522e8d004f"
      },
      "source": [
        "# Size 변수는 Mb, kb 단위 혼재, Varies with device 도 있음\n",
        "data[(data.App == 'iPair-Meet, Chat, Dating') | (data.App == 'Dynamics AX') | (data.App == 'Floor Plan Creator')].iloc[:,[4]]"
      ],
      "execution_count": null,
      "outputs": [
        {
          "output_type": "execute_result",
          "data": {
            "text/html": [
              "<div>\n",
              "<style scoped>\n",
              "    .dataframe tbody tr th:only-of-type {\n",
              "        vertical-align: middle;\n",
              "    }\n",
              "\n",
              "    .dataframe tbody tr th {\n",
              "        vertical-align: top;\n",
              "    }\n",
              "\n",
              "    .dataframe thead th {\n",
              "        text-align: right;\n",
              "    }\n",
              "</style>\n",
              "<table border=\"1\" class=\"dataframe\">\n",
              "  <thead>\n",
              "    <tr style=\"text-align: right;\">\n",
              "      <th></th>\n",
              "      <th>Size</th>\n",
              "    </tr>\n",
              "  </thead>\n",
              "  <tbody>\n",
              "    <tr>\n",
              "      <th>37</th>\n",
              "      <td>Varies with device</td>\n",
              "    </tr>\n",
              "    <tr>\n",
              "      <th>600</th>\n",
              "      <td>77M</td>\n",
              "    </tr>\n",
              "    <tr>\n",
              "      <th>5783</th>\n",
              "      <td>976k</td>\n",
              "    </tr>\n",
              "  </tbody>\n",
              "</table>\n",
              "</div>"
            ],
            "text/plain": [
              "                    Size\n",
              "37    Varies with device\n",
              "600                  77M\n",
              "5783                976k"
            ]
          },
          "metadata": {
            "tags": []
          },
          "execution_count": 275
        }
      ]
    },
    {
      "cell_type": "code",
      "metadata": {
        "id": "ZfYqoFRn9KTJ",
        "colab_type": "code",
        "colab": {
          "base_uri": "https://localhost:8080/",
          "height": 136
        },
        "outputId": "c4375c16-68cb-4f40-b957-98fbce505bd3"
      },
      "source": [
        "# 단위 변환\n",
        "data.Size = data.Size.map(lambda x: x.replace('M','000').replace('.','').replace('k',''))\n",
        "data.Size[data.Size == 'Varies with device'] = data.Size[data.Size != 'Varies with device'].median()\n",
        "data.Size = data.Size.astype(int)\n",
        "data[(data.App == 'iPair-Meet, Chat, Dating') | (data.App == 'Dynamics AX') | (data.App == 'Floor Plan Creator')].iloc[:,[4]]"
      ],
      "execution_count": null,
      "outputs": [
        {
          "output_type": "execute_result",
          "data": {
            "text/html": [
              "<div>\n",
              "<style scoped>\n",
              "    .dataframe tbody tr th:only-of-type {\n",
              "        vertical-align: middle;\n",
              "    }\n",
              "\n",
              "    .dataframe tbody tr th {\n",
              "        vertical-align: top;\n",
              "    }\n",
              "\n",
              "    .dataframe thead th {\n",
              "        text-align: right;\n",
              "    }\n",
              "</style>\n",
              "<table border=\"1\" class=\"dataframe\">\n",
              "  <thead>\n",
              "    <tr style=\"text-align: right;\">\n",
              "      <th></th>\n",
              "      <th>Size</th>\n",
              "    </tr>\n",
              "  </thead>\n",
              "  <tbody>\n",
              "    <tr>\n",
              "      <th>37</th>\n",
              "      <td>33000</td>\n",
              "    </tr>\n",
              "    <tr>\n",
              "      <th>600</th>\n",
              "      <td>77000</td>\n",
              "    </tr>\n",
              "    <tr>\n",
              "      <th>5783</th>\n",
              "      <td>976</td>\n",
              "    </tr>\n",
              "  </tbody>\n",
              "</table>\n",
              "</div>"
            ],
            "text/plain": [
              "       Size\n",
              "37    33000\n",
              "600   77000\n",
              "5783    976"
            ]
          },
          "metadata": {
            "tags": []
          },
          "execution_count": 78
        }
      ]
    },
    {
      "cell_type": "code",
      "metadata": {
        "id": "NOS7NXduAyYP",
        "colab_type": "code",
        "colab": {
          "base_uri": "https://localhost:8080/",
          "height": 347
        },
        "outputId": "00281193-81f0-4e44-9df5-dd3bf1cff99a"
      },
      "source": [
        "plt.figure(figsize=(3,2))\n",
        "plt.xlabel('Size(Kb)')\n",
        "plt.ylabel('Frequency')\n",
        "plt.hist(data.Size, bins=20, color='#ffbc00')"
      ],
      "execution_count": null,
      "outputs": [
        {
          "output_type": "execute_result",
          "data": {
            "text/plain": [
              "(array([ 256.,   92.,  863.,  679.,  713.,  612., 1686.,  488.,  394.,\n",
              "         359.,  286.,  270.,  248.,  212.,  185.,  171.,  183.,  156.,\n",
              "         176.,  168.]),\n",
              " array([1.100000e+01, 5.010450e+03, 1.000990e+04, 1.500935e+04,\n",
              "        2.000880e+04, 2.500825e+04, 3.000770e+04, 3.500715e+04,\n",
              "        4.000660e+04, 4.500605e+04, 5.000550e+04, 5.500495e+04,\n",
              "        6.000440e+04, 6.500385e+04, 7.000330e+04, 7.500275e+04,\n",
              "        8.000220e+04, 8.500165e+04, 9.000110e+04, 9.500055e+04,\n",
              "        1.000000e+05]),\n",
              " <a list of 20 Patch objects>)"
            ]
          },
          "metadata": {
            "tags": []
          },
          "execution_count": 284
        },
        {
          "output_type": "display_data",
          "data": {
            "image/png": "[encoded data removed]",
            "text/plain": [
              "<Figure size 216x144 with 1 Axes>"
            ]
          },
          "metadata": {
            "tags": [],
            "needs_background": "light"
          }
        }
      ]
    },
    {
      "cell_type": "code",
      "metadata": {
        "id": "Xd7GrcpzE4a_",
        "colab_type": "code",
        "colab": {
          "base_uri": "https://localhost:8080/",
          "height": 87
        },
        "outputId": "2ecb4c40-dfb0-41d8-ccb9-500c79fbd1c5"
      },
      "source": [
        "data.Installs.unique()"
      ],
      "execution_count": null,
      "outputs": [
        {
          "output_type": "execute_result",
          "data": {
            "text/plain": [
              "array(['10,000+', '500,000+', '5,000,000+', '50,000,000+', '100,000+',\n",
              "       '50,000+', '1,000,000+', '10,000,000+', '5,000+', '100,000,000+',\n",
              "       '1,000,000,000+', '1,000+', '500,000,000+', '100+', '500+', '10+',\n",
              "       '5+', '50+', '1+'], dtype=object)"
            ]
          },
          "metadata": {
            "tags": []
          },
          "execution_count": 161
        }
      ]
    },
    {
      "cell_type": "code",
      "metadata": {
        "id": "QavuEjc-AyQg",
        "colab_type": "code",
        "colab": {}
      },
      "source": [
        "# Installs 변수는 nan 값 없음, 이상치 없음, 수치형이나 범주형으로 표현된 변수\n",
        "data.Installs = data.Installs.map(lambda x: x.replace(',','').replace('+','')).astype(int)"
      ],
      "execution_count": null,
      "outputs": []
    },
    {
      "cell_type": "code",
      "metadata": {
        "id": "qytKZQZWTcq-",
        "colab_type": "code",
        "colab": {
          "base_uri": "https://localhost:8080/",
          "height": 87
        },
        "outputId": "e87bf628-e873-478d-e715-97342d349906"
      },
      "source": [
        "data.Installs.unique()"
      ],
      "execution_count": null,
      "outputs": [
        {
          "output_type": "execute_result",
          "data": {
            "text/plain": [
              "array([     10000,     500000,    5000000,   50000000,     100000,\n",
              "            50000,    1000000,   10000000,       5000,  100000000,\n",
              "       1000000000,       1000,  500000000,        100,        500,\n",
              "               10,          5,         50,          1])"
            ]
          },
          "metadata": {
            "tags": []
          },
          "execution_count": 298
        }
      ]
    },
    {
      "cell_type": "code",
      "metadata": {
        "id": "N_nHx0jlUkF9",
        "colab_type": "code",
        "colab": {
          "base_uri": "https://localhost:8080/",
          "height": 161
        },
        "outputId": "aae30957-e64a-401e-8e2f-50a0641e0178"
      },
      "source": [
        "plt.figure(figsize=(3,1.5))\n",
        "plt.xlabel('Installs(billion)')\n",
        "plt.ylabel('Rating')\n",
        "plt.scatter(data.Installs, data.Rating, alpha=0.1, color='#ffbc00')"
      ],
      "execution_count": null,
      "outputs": [
        {
          "output_type": "execute_result",
          "data": {
            "text/plain": [
              "<matplotlib.collections.PathCollection at 0x7f1289939f28>"
            ]
          },
          "metadata": {
            "tags": []
          },
          "execution_count": 303
        },
        {
          "output_type": "display_data",
          "data": {
            "image/png": "[encoded data removed]",
            "text/plain": [
              "<Figure size 216x108 with 1 Axes>"
            ]
          },
          "metadata": {
            "tags": [],
            "needs_background": "light"
          }
        }
      ]
    },
    {
      "cell_type": "code",
      "metadata": {
        "id": "mMfRegGvAxtL",
        "colab_type": "code",
        "colab": {
          "base_uri": "https://localhost:8080/",
          "height": 161
        },
        "outputId": "20c6a38b-f69b-49d8-e4a8-43a8146a0210"
      },
      "source": [
        "plt.figure(figsize=(3,1.5))\n",
        "plt.xlabel('log(Installs)')\n",
        "plt.ylabel('Rating')\n",
        "plt.scatter(data.Installs.map(lambda x: math.log(x+1)), data.Rating, alpha=0.1, color='#ffbc00')"
      ],
      "execution_count": null,
      "outputs": [
        {
          "output_type": "execute_result",
          "data": {
            "text/plain": [
              "<matplotlib.collections.PathCollection at 0x7fea16c83780>"
            ]
          },
          "metadata": {
            "tags": []
          },
          "execution_count": 19
        },
        {
          "output_type": "display_data",
          "data": {
            "image/png": "[encoded data removed]",
            "text/plain": [
              "<Figure size 216x108 with 1 Axes>"
            ]
          },
          "metadata": {
            "tags": [],
            "needs_background": "light"
          }
        }
      ]
    },
    {
      "cell_type": "code",
      "metadata": {
        "id": "jB3p1luBcC5f",
        "colab_type": "code",
        "colab": {}
      },
      "source": [
        "data.Installs = data.Installs.map(lambda x: math.log(x))"
      ],
      "execution_count": null,
      "outputs": []
    },
    {
      "cell_type": "code",
      "metadata": {
        "id": "9NtvEcn5Yx9E",
        "colab_type": "code",
        "colab": {
          "base_uri": "https://localhost:8080/",
          "height": 156
        },
        "outputId": "0a36b5ce-ffdf-4be5-d5c6-6ef9f469b5cf"
      },
      "source": [
        "# Type 변수는 결측치 1건 있었으나 Rating nan 값 없애면서 없어짐, Free or Paid\n",
        "temp = data.iloc[:,[0,2,6]].groupby(['Type','Rating']).count().unstack()\n",
        "temp = temp.fillna(0).astype(int)\n",
        "temp.columns = temp.columns.map(lambda x: x[1])\n",
        "temp"
      ],
      "execution_count": null,
      "outputs": [
        {
          "output_type": "execute_result",
          "data": {
            "text/html": [
              "<div>\n",
              "<style scoped>\n",
              "    .dataframe tbody tr th:only-of-type {\n",
              "        vertical-align: middle;\n",
              "    }\n",
              "\n",
              "    .dataframe tbody tr th {\n",
              "        vertical-align: top;\n",
              "    }\n",
              "\n",
              "    .dataframe thead th {\n",
              "        text-align: right;\n",
              "    }\n",
              "</style>\n",
              "<table border=\"1\" class=\"dataframe\">\n",
              "  <thead>\n",
              "    <tr style=\"text-align: right;\">\n",
              "      <th></th>\n",
              "      <th>1.0</th>\n",
              "      <th>1.2</th>\n",
              "      <th>1.4</th>\n",
              "      <th>1.5</th>\n",
              "      <th>1.6</th>\n",
              "      <th>1.7</th>\n",
              "      <th>1.8</th>\n",
              "      <th>1.9</th>\n",
              "      <th>2.0</th>\n",
              "      <th>2.1</th>\n",
              "      <th>2.2</th>\n",
              "      <th>2.3</th>\n",
              "      <th>2.4</th>\n",
              "      <th>2.5</th>\n",
              "      <th>2.6</th>\n",
              "      <th>2.7</th>\n",
              "      <th>2.8</th>\n",
              "      <th>2.9</th>\n",
              "      <th>3.0</th>\n",
              "      <th>3.1</th>\n",
              "      <th>3.2</th>\n",
              "      <th>3.3</th>\n",
              "      <th>3.4</th>\n",
              "      <th>3.5</th>\n",
              "      <th>3.6</th>\n",
              "      <th>3.7</th>\n",
              "      <th>3.8</th>\n",
              "      <th>3.9</th>\n",
              "      <th>4.0</th>\n",
              "      <th>4.1</th>\n",
              "      <th>4.2</th>\n",
              "      <th>4.3</th>\n",
              "      <th>4.4</th>\n",
              "      <th>4.5</th>\n",
              "      <th>4.6</th>\n",
              "      <th>4.7</th>\n",
              "      <th>4.8</th>\n",
              "      <th>4.9</th>\n",
              "      <th>5.0</th>\n",
              "    </tr>\n",
              "    <tr>\n",
              "      <th>Type</th>\n",
              "      <th></th>\n",
              "      <th></th>\n",
              "      <th></th>\n",
              "      <th></th>\n",
              "      <th></th>\n",
              "      <th></th>\n",
              "      <th></th>\n",
              "      <th></th>\n",
              "      <th></th>\n",
              "      <th></th>\n",
              "      <th></th>\n",
              "      <th></th>\n",
              "      <th></th>\n",
              "      <th></th>\n",
              "      <th></th>\n",
              "      <th></th>\n",
              "      <th></th>\n",
              "      <th></th>\n",
              "      <th></th>\n",
              "      <th></th>\n",
              "      <th></th>\n",
              "      <th></th>\n",
              "      <th></th>\n",
              "      <th></th>\n",
              "      <th></th>\n",
              "      <th></th>\n",
              "      <th></th>\n",
              "      <th></th>\n",
              "      <th></th>\n",
              "      <th></th>\n",
              "      <th></th>\n",
              "      <th></th>\n",
              "      <th></th>\n",
              "      <th></th>\n",
              "      <th></th>\n",
              "      <th></th>\n",
              "      <th></th>\n",
              "      <th></th>\n",
              "      <th></th>\n",
              "    </tr>\n",
              "  </thead>\n",
              "  <tbody>\n",
              "    <tr>\n",
              "      <th>Free</th>\n",
              "      <td>14</td>\n",
              "      <td>1</td>\n",
              "      <td>3</td>\n",
              "      <td>3</td>\n",
              "      <td>4</td>\n",
              "      <td>7</td>\n",
              "      <td>7</td>\n",
              "      <td>12</td>\n",
              "      <td>11</td>\n",
              "      <td>8</td>\n",
              "      <td>14</td>\n",
              "      <td>18</td>\n",
              "      <td>17</td>\n",
              "      <td>19</td>\n",
              "      <td>22</td>\n",
              "      <td>21</td>\n",
              "      <td>37</td>\n",
              "      <td>40</td>\n",
              "      <td>73</td>\n",
              "      <td>65</td>\n",
              "      <td>61</td>\n",
              "      <td>95</td>\n",
              "      <td>116</td>\n",
              "      <td>146</td>\n",
              "      <td>157</td>\n",
              "      <td>213</td>\n",
              "      <td>267</td>\n",
              "      <td>343</td>\n",
              "      <td>492</td>\n",
              "      <td>591</td>\n",
              "      <td>754</td>\n",
              "      <td>848</td>\n",
              "      <td>826</td>\n",
              "      <td>782</td>\n",
              "      <td>607</td>\n",
              "      <td>392</td>\n",
              "      <td>185</td>\n",
              "      <td>79</td>\n",
              "      <td>243</td>\n",
              "    </tr>\n",
              "    <tr>\n",
              "      <th>Paid</th>\n",
              "      <td>2</td>\n",
              "      <td>0</td>\n",
              "      <td>0</td>\n",
              "      <td>0</td>\n",
              "      <td>0</td>\n",
              "      <td>1</td>\n",
              "      <td>1</td>\n",
              "      <td>0</td>\n",
              "      <td>1</td>\n",
              "      <td>0</td>\n",
              "      <td>0</td>\n",
              "      <td>2</td>\n",
              "      <td>2</td>\n",
              "      <td>1</td>\n",
              "      <td>2</td>\n",
              "      <td>2</td>\n",
              "      <td>3</td>\n",
              "      <td>5</td>\n",
              "      <td>8</td>\n",
              "      <td>4</td>\n",
              "      <td>2</td>\n",
              "      <td>5</td>\n",
              "      <td>10</td>\n",
              "      <td>10</td>\n",
              "      <td>10</td>\n",
              "      <td>11</td>\n",
              "      <td>19</td>\n",
              "      <td>16</td>\n",
              "      <td>21</td>\n",
              "      <td>30</td>\n",
              "      <td>56</td>\n",
              "      <td>49</td>\n",
              "      <td>69</td>\n",
              "      <td>66</td>\n",
              "      <td>76</td>\n",
              "      <td>50</td>\n",
              "      <td>36</td>\n",
              "      <td>6</td>\n",
              "      <td>28</td>\n",
              "    </tr>\n",
              "  </tbody>\n",
              "</table>\n",
              "</div>"
            ],
            "text/plain": [
              "      1.0  1.2  1.4  1.5  1.6  1.7  1.8  ...  4.4  4.5  4.6  4.7  4.8  4.9  5.0\n",
              "Type                                     ...                                   \n",
              "Free   14    1    3    3    4    7    7  ...  826  782  607  392  185   79  243\n",
              "Paid    2    0    0    0    0    1    1  ...   69   66   76   50   36    6   28\n",
              "\n",
              "[2 rows x 39 columns]"
            ]
          },
          "metadata": {
            "tags": []
          },
          "execution_count": 326
        }
      ]
    },
    {
      "cell_type": "code",
      "metadata": {
        "id": "_J5H2ytFasSo",
        "colab_type": "code",
        "colab": {
          "base_uri": "https://localhost:8080/",
          "height": 225
        },
        "outputId": "b56f7695-29dc-4bde-fa04-2a061fd93031"
      },
      "source": [
        "plt.figure(figsize=(4.5,3))\n",
        "plt.plot(temp.columns, temp.iloc[0], color='#ffbc00')\n",
        "plt.plot(temp.columns, temp.iloc[1], color='#60584c')\n",
        "plt.legend(temp.index)\n",
        "plt.xlabel('Rating')\n",
        "plt.ylabel('Frequency')\n",
        "plt.show()"
      ],
      "execution_count": null,
      "outputs": [
        {
          "output_type": "display_data",
          "data": {
            "image/png": "[encoded data removed]",
            "text/plain": [
              "<Figure size 324x216 with 1 Axes>"
            ]
          },
          "metadata": {
            "tags": [],
            "needs_background": "light"
          }
        }
      ]
    },
    {
      "cell_type": "code",
      "metadata": {
        "id": "OcERljwPb4J1",
        "colab_type": "code",
        "colab": {}
      },
      "source": [
        "data = pd.concat([data, pd.get_dummies(data.Type)], axis=1)"
      ],
      "execution_count": null,
      "outputs": []
    },
    {
      "cell_type": "code",
      "metadata": {
        "id": "Qu7TYTYLs6GM",
        "colab_type": "code",
        "colab": {
          "base_uri": "https://localhost:8080/",
          "height": 210
        },
        "outputId": "d9fda784-d465-453f-9bf3-7812ff98ad8f"
      },
      "source": [
        "data.Price.unique()"
      ],
      "execution_count": null,
      "outputs": [
        {
          "output_type": "execute_result",
          "data": {
            "text/plain": [
              "array(['0', '$4.99', '$3.99', '$6.99', '$7.99', '$5.99', '$2.99', '$3.49',\n",
              "       '$1.99', '$9.99', '$7.49', '$0.99', '$9.00', '$5.49', '$10.00',\n",
              "       '$24.99', '$11.99', '$79.99', '$16.99', '$14.99', '$29.99',\n",
              "       '$12.99', '$2.49', '$10.99', '$1.50', '$19.99', '$15.99', '$33.99',\n",
              "       '$39.99', '$3.95', '$4.49', '$1.70', '$8.99', '$1.49', '$3.88',\n",
              "       '$399.99', '$17.99', '$400.00', '$3.02', '$1.76', '$4.84', '$4.77',\n",
              "       '$1.61', '$2.50', '$1.59', '$6.49', '$1.29', '$299.99', '$379.99',\n",
              "       '$37.99', '$18.99', '$389.99', '$8.49', '$1.75', '$14.00', '$2.00',\n",
              "       '$3.08', '$2.59', '$19.40', '$3.90', '$4.59', '$15.46', '$3.04',\n",
              "       '$13.99', '$4.29', '$3.28', '$4.60', '$1.00', '$2.95', '$2.90',\n",
              "       '$1.97', '$2.56', '$1.20'], dtype=object)"
            ]
          },
          "metadata": {
            "tags": []
          },
          "execution_count": 362
        }
      ]
    },
    {
      "cell_type": "code",
      "metadata": {
        "id": "NpQBZGi5qqd3",
        "colab_type": "code",
        "colab": {}
      },
      "source": [
        "data.Price = data.Price.map(lambda x: x.replace('$','')).astype(float)"
      ],
      "execution_count": null,
      "outputs": []
    },
    {
      "cell_type": "code",
      "metadata": {
        "id": "2GMGqxpYs_tH",
        "colab_type": "code",
        "colab": {
          "base_uri": "https://localhost:8080/",
          "height": 193
        },
        "outputId": "ea2cd3f4-a8cf-43f8-9bb6-03bf77ffbec6"
      },
      "source": [
        "data.Price.unique()"
      ],
      "execution_count": null,
      "outputs": [
        {
          "output_type": "execute_result",
          "data": {
            "text/plain": [
              "array([  0.  ,   4.99,   3.99,   6.99,   7.99,   5.99,   2.99,   3.49,\n",
              "         1.99,   9.99,   7.49,   0.99,   9.  ,   5.49,  10.  ,  24.99,\n",
              "        11.99,  79.99,  16.99,  14.99,  29.99,  12.99,   2.49,  10.99,\n",
              "         1.5 ,  19.99,  15.99,  33.99,  39.99,   3.95,   4.49,   1.7 ,\n",
              "         8.99,   1.49,   3.88, 399.99,  17.99, 400.  ,   3.02,   1.76,\n",
              "         4.84,   4.77,   1.61,   2.5 ,   1.59,   6.49,   1.29, 299.99,\n",
              "       379.99,  37.99,  18.99, 389.99,   8.49,   1.75,  14.  ,   2.  ,\n",
              "         3.08,   2.59,  19.4 ,   3.9 ,   4.59,  15.46,   3.04,  13.99,\n",
              "         4.29,   3.28,   4.6 ,   1.  ,   2.95,   2.9 ,   1.97,   2.56,\n",
              "         1.2 ])"
            ]
          },
          "metadata": {
            "tags": []
          },
          "execution_count": 364
        }
      ]
    },
    {
      "cell_type": "code",
      "metadata": {
        "id": "ym2fL2TxrW0W",
        "colab_type": "code",
        "colab": {
          "base_uri": "https://localhost:8080/",
          "height": 161
        },
        "outputId": "261b5bd9-ea8b-47ef-aa39-2d1eb1a4504e"
      },
      "source": [
        "plt.figure(figsize=(3,1.5))\n",
        "plt.xlabel('Price($)')\n",
        "plt.ylabel('Rating')\n",
        "plt.scatter(data.Price, data.Rating, alpha=0.1, color='#ffbc00')"
      ],
      "execution_count": null,
      "outputs": [
        {
          "output_type": "execute_result",
          "data": {
            "text/plain": [
              "<matplotlib.collections.PathCollection at 0x7f12895d2e80>"
            ]
          },
          "metadata": {
            "tags": []
          },
          "execution_count": 368
        },
        {
          "output_type": "display_data",
          "data": {
            "image/png": "[encoded data removed]",
            "text/plain": [
              "<Figure size 216x108 with 1 Axes>"
            ]
          },
          "metadata": {
            "tags": [],
            "needs_background": "light"
          }
        }
      ]
    },
    {
      "cell_type": "code",
      "metadata": {
        "id": "BlCAAFBGp4tl",
        "colab_type": "code",
        "colab": {
          "base_uri": "https://localhost:8080/",
          "height": 161
        },
        "outputId": "d8757713-62fa-4786-f046-0e8d7cbe4761"
      },
      "source": [
        "plt.figure(figsize=(3,1.5))\n",
        "plt.xlabel('log(Price+1)')\n",
        "plt.ylabel('Rating')\n",
        "plt.scatter(data.Price.map(lambda x: math.log(x+1)), data.Rating, alpha=0.1, color='#ffbc00')"
      ],
      "execution_count": null,
      "outputs": [
        {
          "output_type": "execute_result",
          "data": {
            "text/plain": [
              "<matplotlib.collections.PathCollection at 0x7f128965a550>"
            ]
          },
          "metadata": {
            "tags": []
          },
          "execution_count": 369
        },
        {
          "output_type": "display_data",
          "data": {
            "image/png": "[encoded data removed]",
            "text/plain": [
              "<Figure size 216x108 with 1 Axes>"
            ]
          },
          "metadata": {
            "tags": [],
            "needs_background": "light"
          }
        }
      ]
    },
    {
      "cell_type": "code",
      "metadata": {
        "id": "6-qYKzYMp4ZT",
        "colab_type": "code",
        "colab": {
          "base_uri": "https://localhost:8080/",
          "height": 143
        },
        "outputId": "828f05e5-7edc-49fe-a344-3fb044724fec"
      },
      "source": [
        "# Price 변수 이상치 삭제, 로그 변환\n",
        "data = data.drop(data[data.Price > 250].index)\n",
        "plt.figure(figsize=(3,1.5))\n",
        "plt.xlabel('log(Price+1)')\n",
        "plt.ylabel('Rating')\n",
        "plt.scatter(data.Price.map(lambda x: math.log(x+1)), data.Rating, alpha=0.1, color='#ffbc00')\n",
        "data.Price = data.Price.map(lambda x: math.log(x+1))"
      ],
      "execution_count": null,
      "outputs": [
        {
          "output_type": "display_data",
          "data": {
            "image/png": "[encoded data removed]",
            "text/plain": [
              "<Figure size 216x108 with 1 Axes>"
            ]
          },
          "metadata": {
            "tags": [],
            "needs_background": "light"
          }
        }
      ]
    },
    {
      "cell_type": "code",
      "metadata": {
        "id": "tUhvjBexp4QK",
        "colab_type": "code",
        "colab": {
          "base_uri": "https://localhost:8080/",
          "height": 313
        },
        "outputId": "ab24ca44-fb77-4f4b-cfc7-967decb51108"
      },
      "source": [
        "# Content Rating 분포 확인\n",
        "plt.figure(figsize=(3,3))\n",
        "plt.xticks(rotation=90)\n",
        "sns.boxplot(data['Content Rating'], data.Rating, palette=['#ffbc00']*6)"
      ],
      "execution_count": null,
      "outputs": [
        {
          "output_type": "execute_result",
          "data": {
            "text/plain": [
              "<matplotlib.axes._subplots.AxesSubplot at 0x7f128b8a7748>"
            ]
          },
          "metadata": {
            "tags": []
          },
          "execution_count": 376
        },
        {
          "output_type": "display_data",
          "data": {
            "image/png": "[encoded data removed]",
            "text/plain": [
              "<Figure size 216x216 with 1 Axes>"
            ]
          },
          "metadata": {
            "tags": [],
            "needs_background": "light"
          }
        }
      ]
    },
    {
      "cell_type": "code",
      "metadata": {
        "id": "W0IV7gmm6wBI",
        "colab_type": "code",
        "colab": {
          "base_uri": "https://localhost:8080/",
          "height": 84
        },
        "outputId": "03b433a2-9938-41d2-9839-351dbd6c6366"
      },
      "source": [
        "# Content Rating 변수 이상치 삭제\n",
        "data = data.drop(data[data['Content Rating'] == 'Unrated'].index)\n",
        "data[data['Content Rating'] == 'Unrated']"
      ],
      "execution_count": null,
      "outputs": [
        {
          "output_type": "execute_result",
          "data": {
            "text/html": [
              "<div>\n",
              "<style scoped>\n",
              "    .dataframe tbody tr th:only-of-type {\n",
              "        vertical-align: middle;\n",
              "    }\n",
              "\n",
              "    .dataframe tbody tr th {\n",
              "        vertical-align: top;\n",
              "    }\n",
              "\n",
              "    .dataframe thead th {\n",
              "        text-align: right;\n",
              "    }\n",
              "</style>\n",
              "<table border=\"1\" class=\"dataframe\">\n",
              "  <thead>\n",
              "    <tr style=\"text-align: right;\">\n",
              "      <th></th>\n",
              "      <th>App</th>\n",
              "      <th>Category</th>\n",
              "      <th>Rating</th>\n",
              "      <th>Reviews</th>\n",
              "      <th>Size</th>\n",
              "      <th>Installs</th>\n",
              "      <th>Type</th>\n",
              "      <th>Price</th>\n",
              "      <th>Content Rating</th>\n",
              "      <th>Genres</th>\n",
              "      <th>Last Updated</th>\n",
              "      <th>Current Ver</th>\n",
              "      <th>Android Ver</th>\n",
              "      <th>ART_AND_DESIGN</th>\n",
              "      <th>AUTO_AND_VEHICLES</th>\n",
              "      <th>BEAUTY</th>\n",
              "      <th>BOOKS_AND_REFERENCE</th>\n",
              "      <th>BUSINESS</th>\n",
              "      <th>COMICS</th>\n",
              "      <th>COMMUNICATION</th>\n",
              "      <th>DATING</th>\n",
              "      <th>EDUCATION</th>\n",
              "      <th>ENTERTAINMENT</th>\n",
              "      <th>EVENTS</th>\n",
              "      <th>FAMILY</th>\n",
              "      <th>FINANCE</th>\n",
              "      <th>FOOD_AND_DRINK</th>\n",
              "      <th>GAME</th>\n",
              "      <th>HEALTH_AND_FITNESS</th>\n",
              "      <th>HOUSE_AND_HOME</th>\n",
              "      <th>LIBRARIES_AND_DEMO</th>\n",
              "      <th>LIFESTYLE</th>\n",
              "      <th>MAPS_AND_NAVIGATION</th>\n",
              "      <th>MEDICAL</th>\n",
              "      <th>NEWS_AND_MAGAZINES</th>\n",
              "      <th>PARENTING</th>\n",
              "      <th>PERSONALIZATION</th>\n",
              "      <th>PHOTOGRAPHY</th>\n",
              "      <th>PRODUCTIVITY</th>\n",
              "      <th>SHOPPING</th>\n",
              "      <th>SOCIAL</th>\n",
              "      <th>SPORTS</th>\n",
              "      <th>TOOLS</th>\n",
              "      <th>TRAVEL_AND_LOCAL</th>\n",
              "      <th>VIDEO_PLAYERS</th>\n",
              "      <th>WEATHER</th>\n",
              "      <th>Free</th>\n",
              "      <th>Paid</th>\n",
              "    </tr>\n",
              "  </thead>\n",
              "  <tbody>\n",
              "  </tbody>\n",
              "</table>\n",
              "</div>"
            ],
            "text/plain": [
              "Empty DataFrame\n",
              "Columns: [App, Category, Rating, Reviews, Size, Installs, Type, Price, Content Rating, Genres, Last Updated, Current Ver, Android Ver, ART_AND_DESIGN, AUTO_AND_VEHICLES, BEAUTY, BOOKS_AND_REFERENCE, BUSINESS, COMICS, COMMUNICATION, DATING, EDUCATION, ENTERTAINMENT, EVENTS, FAMILY, FINANCE, FOOD_AND_DRINK, GAME, HEALTH_AND_FITNESS, HOUSE_AND_HOME, LIBRARIES_AND_DEMO, LIFESTYLE, MAPS_AND_NAVIGATION, MEDICAL, NEWS_AND_MAGAZINES, PARENTING, PERSONALIZATION, PHOTOGRAPHY, PRODUCTIVITY, SHOPPING, SOCIAL, SPORTS, TOOLS, TRAVEL_AND_LOCAL, VIDEO_PLAYERS, WEATHER, Free, Paid]\n",
              "Index: []"
            ]
          },
          "metadata": {
            "tags": []
          },
          "execution_count": 84
        }
      ]
    },
    {
      "cell_type": "code",
      "metadata": {
        "id": "rQh0ENum5hNZ",
        "colab_type": "code",
        "colab": {}
      },
      "source": [
        "data = pd.concat([data, pd.get_dummies(data['Content Rating'])], axis=1)"
      ],
      "execution_count": null,
      "outputs": []
    },
    {
      "cell_type": "code",
      "metadata": {
        "id": "ePqPhhYM9KDv",
        "colab_type": "code",
        "colab": {
          "base_uri": "https://localhost:8080/",
          "height": 225
        },
        "outputId": "004a0301-b817-4873-fbf4-da69fa17d672"
      },
      "source": [
        "# Genres 변수 제1정규화, 더미 변수\n",
        "temp = data.Genres.str.split(';')\n",
        "t = pd.DataFrame(temp.map(lambda x: x[0]))\n",
        "t = t.append(pd.DataFrame(temp[temp.map(lambda x: len(x) > 1)].map(lambda x: x[1])))\n",
        "t['App'], t['count'] = data['App'], 1\n",
        "t = t.groupby(['Genres','App']).count().unstack(level=0)\n",
        "t.columns = t.columns.map(lambda x: x[1])\n",
        "data.set_index(['App'], inplace=True)\n",
        "for i in t.columns:\n",
        "  data[i] = t[i]\n",
        "  data[i] = data[i].fillna(0).astype(int)\n",
        "data.loc[:,['Art & Design', 'Pretend Play', 'Creativity']].head()"
      ],
      "execution_count": null,
      "outputs": [
        {
          "output_type": "execute_result",
          "data": {
            "text/html": [
              "<div>\n",
              "<style scoped>\n",
              "    .dataframe tbody tr th:only-of-type {\n",
              "        vertical-align: middle;\n",
              "    }\n",
              "\n",
              "    .dataframe tbody tr th {\n",
              "        vertical-align: top;\n",
              "    }\n",
              "\n",
              "    .dataframe thead th {\n",
              "        text-align: right;\n",
              "    }\n",
              "</style>\n",
              "<table border=\"1\" class=\"dataframe\">\n",
              "  <thead>\n",
              "    <tr style=\"text-align: right;\">\n",
              "      <th></th>\n",
              "      <th>Art &amp; Design</th>\n",
              "      <th>Pretend Play</th>\n",
              "      <th>Creativity</th>\n",
              "    </tr>\n",
              "    <tr>\n",
              "      <th>App</th>\n",
              "      <th></th>\n",
              "      <th></th>\n",
              "      <th></th>\n",
              "    </tr>\n",
              "  </thead>\n",
              "  <tbody>\n",
              "    <tr>\n",
              "      <th>Photo Editor &amp; Candy Camera &amp; Grid &amp; ScrapBook</th>\n",
              "      <td>1</td>\n",
              "      <td>0</td>\n",
              "      <td>0</td>\n",
              "    </tr>\n",
              "    <tr>\n",
              "      <th>Coloring book moana</th>\n",
              "      <td>1</td>\n",
              "      <td>1</td>\n",
              "      <td>0</td>\n",
              "    </tr>\n",
              "    <tr>\n",
              "      <th>U Launcher Lite – FREE Live Cool Themes, Hide Apps</th>\n",
              "      <td>1</td>\n",
              "      <td>0</td>\n",
              "      <td>0</td>\n",
              "    </tr>\n",
              "    <tr>\n",
              "      <th>Sketch - Draw &amp; Paint</th>\n",
              "      <td>1</td>\n",
              "      <td>0</td>\n",
              "      <td>0</td>\n",
              "    </tr>\n",
              "    <tr>\n",
              "      <th>Pixel Draw - Number Art Coloring Book</th>\n",
              "      <td>1</td>\n",
              "      <td>0</td>\n",
              "      <td>1</td>\n",
              "    </tr>\n",
              "  </tbody>\n",
              "</table>\n",
              "</div>"
            ],
            "text/plain": [
              "                                                    Art & Design  ...  Creativity\n",
              "App                                                               ...            \n",
              "Photo Editor & Candy Camera & Grid & ScrapBook                 1  ...           0\n",
              "Coloring book moana                                            1  ...           0\n",
              "U Launcher Lite – FREE Live Cool Themes, Hide Apps             1  ...           0\n",
              "Sketch - Draw & Paint                                          1  ...           0\n",
              "Pixel Draw - Number Art Coloring Book                          1  ...           1\n",
              "\n",
              "[5 rows x 3 columns]"
            ]
          },
          "metadata": {
            "tags": []
          },
          "execution_count": 85
        }
      ]
    },
    {
      "cell_type": "code",
      "metadata": {
        "id": "6LPGX3LjnBN_",
        "colab_type": "code",
        "colab": {
          "base_uri": "https://localhost:8080/",
          "height": 349
        },
        "outputId": "898ca5ae-580a-4cf4-d2fe-3583cdd4ba00"
      },
      "source": [
        "plt.figure(figsize=(15,3))\n",
        "plt.xticks(rotation=90)\n",
        "tt = temp.map(lambda x: x[0])\n",
        "tt.index = data.index\n",
        "sns.boxplot(tt, data.Rating, palette=['#ffbc00']*48)"
      ],
      "execution_count": null,
      "outputs": [
        {
          "output_type": "execute_result",
          "data": {
            "text/plain": [
              "<matplotlib.axes._subplots.AxesSubplot at 0x7fea127c6fd0>"
            ]
          },
          "metadata": {
            "tags": []
          },
          "execution_count": 99
        },
        {
          "output_type": "display_data",
          "data": {
            "image/png": "[encoded data removed]",
            "text/plain": [
              "<Figure size 1080x216 with 1 Axes>"
            ]
          },
          "metadata": {
            "tags": [],
            "needs_background": "light"
          }
        }
      ]
    },
    {
      "cell_type": "code",
      "metadata": {
        "id": "sH-yCYAfAi6c",
        "colab_type": "code",
        "colab": {
          "base_uri": "https://localhost:8080/",
          "height": 431
        },
        "outputId": "e77a9edf-6867-4403-ccb0-992fb90e7cb4"
      },
      "source": [
        "# Last Updated\n",
        "data['Days from Update'] = (pd.to_datetime('2020-06-18') - pd.to_datetime(data['Last Updated'])).map(lambda x: str(x)[:str(x).find(' ')]).astype(int)\n",
        "data.loc[:, ['Last Updated','Days from Update']]"
      ],
      "execution_count": null,
      "outputs": [
        {
          "output_type": "execute_result",
          "data": {
            "text/html": [
              "<div>\n",
              "<style scoped>\n",
              "    .dataframe tbody tr th:only-of-type {\n",
              "        vertical-align: middle;\n",
              "    }\n",
              "\n",
              "    .dataframe tbody tr th {\n",
              "        vertical-align: top;\n",
              "    }\n",
              "\n",
              "    .dataframe thead th {\n",
              "        text-align: right;\n",
              "    }\n",
              "</style>\n",
              "<table border=\"1\" class=\"dataframe\">\n",
              "  <thead>\n",
              "    <tr style=\"text-align: right;\">\n",
              "      <th></th>\n",
              "      <th>Last Updated</th>\n",
              "      <th>Days from Update</th>\n",
              "    </tr>\n",
              "    <tr>\n",
              "      <th>App</th>\n",
              "      <th></th>\n",
              "      <th></th>\n",
              "    </tr>\n",
              "  </thead>\n",
              "  <tbody>\n",
              "    <tr>\n",
              "      <th>Photo Editor &amp; Candy Camera &amp; Grid &amp; ScrapBook</th>\n",
              "      <td>January 7, 2018</td>\n",
              "      <td>893</td>\n",
              "    </tr>\n",
              "    <tr>\n",
              "      <th>Coloring book moana</th>\n",
              "      <td>January 15, 2018</td>\n",
              "      <td>885</td>\n",
              "    </tr>\n",
              "    <tr>\n",
              "      <th>U Launcher Lite – FREE Live Cool Themes, Hide Apps</th>\n",
              "      <td>August 1, 2018</td>\n",
              "      <td>687</td>\n",
              "    </tr>\n",
              "    <tr>\n",
              "      <th>Sketch - Draw &amp; Paint</th>\n",
              "      <td>June 8, 2018</td>\n",
              "      <td>741</td>\n",
              "    </tr>\n",
              "    <tr>\n",
              "      <th>Pixel Draw - Number Art Coloring Book</th>\n",
              "      <td>June 20, 2018</td>\n",
              "      <td>729</td>\n",
              "    </tr>\n",
              "    <tr>\n",
              "      <th>...</th>\n",
              "      <td>...</td>\n",
              "      <td>...</td>\n",
              "    </tr>\n",
              "    <tr>\n",
              "      <th>FR Calculator</th>\n",
              "      <td>June 18, 2017</td>\n",
              "      <td>1096</td>\n",
              "    </tr>\n",
              "    <tr>\n",
              "      <th>Sya9a Maroc - FR</th>\n",
              "      <td>July 25, 2017</td>\n",
              "      <td>1059</td>\n",
              "    </tr>\n",
              "    <tr>\n",
              "      <th>Fr. Mike Schmitz Audio Teachings</th>\n",
              "      <td>July 6, 2018</td>\n",
              "      <td>713</td>\n",
              "    </tr>\n",
              "    <tr>\n",
              "      <th>The SCP Foundation DB fr nn5n</th>\n",
              "      <td>January 19, 2015</td>\n",
              "      <td>1977</td>\n",
              "    </tr>\n",
              "    <tr>\n",
              "      <th>iHoroscope - 2018 Daily Horoscope &amp; Astrology</th>\n",
              "      <td>July 25, 2018</td>\n",
              "      <td>694</td>\n",
              "    </tr>\n",
              "  </tbody>\n",
              "</table>\n",
              "<p>8181 rows × 2 columns</p>\n",
              "</div>"
            ],
            "text/plain": [
              "                                                        Last Updated  Days from Update\n",
              "App                                                                                   \n",
              "Photo Editor & Candy Camera & Grid & ScrapBook       January 7, 2018               893\n",
              "Coloring book moana                                 January 15, 2018               885\n",
              "U Launcher Lite – FREE Live Cool Themes, Hide Apps    August 1, 2018               687\n",
              "Sketch - Draw & Paint                                   June 8, 2018               741\n",
              "Pixel Draw - Number Art Coloring Book                  June 20, 2018               729\n",
              "...                                                              ...               ...\n",
              "FR Calculator                                          June 18, 2017              1096\n",
              "Sya9a Maroc - FR                                       July 25, 2017              1059\n",
              "Fr. Mike Schmitz Audio Teachings                        July 6, 2018               713\n",
              "The SCP Foundation DB fr nn5n                       January 19, 2015              1977\n",
              "iHoroscope - 2018 Daily Horoscope & Astrology          July 25, 2018               694\n",
              "\n",
              "[8181 rows x 2 columns]"
            ]
          },
          "metadata": {
            "tags": []
          },
          "execution_count": 38
        }
      ]
    },
    {
      "cell_type": "code",
      "metadata": {
        "id": "Kb65cozQhMrn",
        "colab_type": "code",
        "colab": {
          "base_uri": "https://localhost:8080/",
          "height": 161
        },
        "outputId": "97ba2813-fd3f-4c2b-8764-54a6accbf9dc"
      },
      "source": [
        "plt.figure(figsize=(3,1.5))\n",
        "plt.xlabel('Dayes from Update')\n",
        "plt.ylabel('Rating')\n",
        "plt.scatter(data['Days from Update'], data.Rating, alpha=0.1, color='#ffbc00')"
      ],
      "execution_count": null,
      "outputs": [
        {
          "output_type": "execute_result",
          "data": {
            "text/plain": [
              "<matplotlib.collections.PathCollection at 0x7fea165eb2e8>"
            ]
          },
          "metadata": {
            "tags": []
          },
          "execution_count": 40
        },
        {
          "output_type": "display_data",
          "data": {
            "image/png": "[encoded data removed]",
            "text/plain": [
              "<Figure size 216x108 with 1 Axes>"
            ]
          },
          "metadata": {
            "tags": [],
            "needs_background": "light"
          }
        }
      ]
    },
    {
      "cell_type": "code",
      "metadata": {
        "id": "MPAGBdk3ItZ9",
        "colab_type": "code",
        "colab": {}
      },
      "source": [
        "# Android Ver 변수, 범주형으로 두기, 더미 변수\n",
        "temp = data['Android Ver'].map(lambda x: str(x)[:(str(x).find('.')+2)])\n",
        "temp[(temp == 'V') | (temp == 'n')] = '4.0'\n",
        "data = pd.concat([data, pd.get_dummies(temp)], axis=1)\n",
        "data['Updating'] = 1\n",
        "data.Updating[data['Android Ver'].map(lambda x: str(x).find('-') > 0)] = 0"
      ],
      "execution_count": null,
      "outputs": []
    },
    {
      "cell_type": "code",
      "metadata": {
        "id": "0CzOKaSfItTf",
        "colab_type": "code",
        "colab": {
          "base_uri": "https://localhost:8080/",
          "height": 354
        },
        "outputId": "a820057b-0614-488f-970d-ae7f015223fd"
      },
      "source": [
        "plt.figure(figsize=(4.5,3))\n",
        "plt.xlabel('Android Ver')\n",
        "plt.ylabel('Frequency')\n",
        "plt.xticks(rotation=90)\n",
        "plt.hist(sorted(temp), bins=20, color='#ffbc00')"
      ],
      "execution_count": null,
      "outputs": [
        {
          "output_type": "execute_result",
          "data": {
            "text/plain": [
              "(array([2.000e+00, 1.600e+01, 8.600e+01, 3.400e+01, 1.120e+02, 2.030e+02,\n",
              "        7.780e+02, 2.010e+02, 8.000e+00, 3.100e+01, 3.131e+03, 1.809e+03,\n",
              "        3.140e+02, 1.840e+02, 7.150e+02, 4.500e+02, 1.600e+01, 4.200e+01,\n",
              "        4.100e+01, 8.000e+00]),\n",
              " array([ 0.,  1.,  2.,  3.,  4.,  5.,  6.,  7.,  8.,  9., 10., 11., 12.,\n",
              "        13., 14., 15., 16., 17., 18., 19., 20.]),\n",
              " <a list of 20 Patch objects>)"
            ]
          },
          "metadata": {
            "tags": []
          },
          "execution_count": 65
        },
        {
          "output_type": "display_data",
          "data": {
            "image/png": "[encoded data removed]",
            "text/plain": [
              "<Figure size 324x216 with 1 Axes>"
            ]
          },
          "metadata": {
            "tags": [],
            "needs_background": "light"
          }
        }
      ]
    },
    {
      "cell_type": "code",
      "metadata": {
        "id": "NE108a9kl-WT",
        "colab_type": "code",
        "colab": {
          "base_uri": "https://localhost:8080/",
          "height": 222
        },
        "outputId": "20e61c44-9fbe-4300-9d01-6e7c8de1866f"
      },
      "source": [
        "plt.figure(figsize=(5,2.5))\n",
        "plt.xlabel('Android Ver')\n",
        "plt.ylabel('Rating')\n",
        "plt.xticks(rotation=90)\n",
        "plt.scatter(temp, data.Rating, alpha=0.1, color='#ffbc00')"
      ],
      "execution_count": null,
      "outputs": [
        {
          "output_type": "execute_result",
          "data": {
            "text/plain": [
              "<matplotlib.collections.PathCollection at 0x7fea151adc18>"
            ]
          },
          "metadata": {
            "tags": []
          },
          "execution_count": 68
        },
        {
          "output_type": "display_data",
          "data": {
            "image/png": "[encoded data removed]",
            "text/plain": [
              "<Figure size 360x180 with 1 Axes>"
            ]
          },
          "metadata": {
            "tags": [],
            "needs_background": "light"
          }
        }
      ]
    },
    {
      "cell_type": "code",
      "metadata": {
        "id": "hQRR5yz_ItRO",
        "colab_type": "code",
        "colab": {}
      },
      "source": [
        ""
      ],
      "execution_count": null,
      "outputs": []
    },
    {
      "cell_type": "markdown",
      "metadata": {
        "id": "_Mjq0rwgzi_w",
        "colab_type": "text"
      },
      "source": [
        "###### 한꺼번에"
      ]
    },
    {
      "cell_type": "code",
      "metadata": {
        "id": "xOzgjJHg-Sd8",
        "colab_type": "code",
        "colab": {}
      },
      "source": [
        "data = pd.read_csv('appstore.csv')"
      ],
      "execution_count": null,
      "outputs": []
    },
    {
      "cell_type": "code",
      "metadata": {
        "id": "wXuq9KZy4v7O",
        "colab_type": "code",
        "colab": {}
      },
      "source": [
        "# 밀린 열\n",
        "temp = data.iloc[10472, 1:12]\n",
        "temp.index = data.columns[2:13]\n",
        "data.iloc[10472, 2:13] = temp\n",
        "data.iloc[10472, 1], data.iloc[10472, 9] = 'LIFESTYLE', 'Lifestyle'\n",
        "\n",
        "# 중복 제거\n",
        "data = data.drop_duplicates(['App'], keep='first')\n",
        "\n",
        "# Rating\n",
        "data = data.drop(data[data.Rating.isna()].index)\n",
        "data.Rating = data.Rating.astype(float)\n",
        "\n",
        "# Category\n",
        "data = pd.concat([data, pd.get_dummies(data.Category)], axis=1)\n",
        "\n",
        "# Reviews\n",
        "data.Reviews = data.Reviews.astype(int)\n",
        "data.Reviews = data.Reviews.map(lambda x: math.log(x))\n",
        "\n",
        "# Size\n",
        "data.Size = data.Size.map(lambda x: x.replace('M','000').replace('.','').replace('k',''))\n",
        "data.Size[data.Size == 'Varies with device'] = data.Size[data.Size != 'Varies with device'].median()\n",
        "data.Size = data.Size.astype(int)\n",
        "\n",
        "# Installs\n",
        "data.Installs = data.Installs.map(lambda x: x.replace(',','').replace('+','')).astype(int)\n",
        "data.Installs = data.Installs.map(lambda x: math.log(x))\n",
        "\n",
        "# Type\n",
        "data = pd.concat([data, pd.get_dummies(data.Type)], axis=1)\n",
        "\n",
        "# Price\n",
        "data.Price = data.Price.map(lambda x: x.replace('$','')).astype(float)\n",
        "data = data.drop(data[data.Price > 250].index)\n",
        "data.Price = data.Price.map(lambda x: math.log(x+1))\n",
        "\n",
        "# Content Rating\n",
        "data = data.drop(data[data['Content Rating'] == 'Unrated'].index)\n",
        "data = pd.concat([data, pd.get_dummies(data['Content Rating'])], axis=1)\n",
        "\n",
        "# Genres\n",
        "temp = data.Genres.str.split(';')\n",
        "t = pd.DataFrame(temp.map(lambda x: x[0]))\n",
        "t = t.append(pd.DataFrame(temp[temp.map(lambda x: len(x) > 1)].map(lambda x: x[1])))\n",
        "t['App'], t['count'] = data['App'], 1\n",
        "t = t.groupby(['Genres','App']).count().unstack(level=0)\n",
        "t.columns = t.columns.map(lambda x: x[1])\n",
        "data.set_index(['App'], inplace=True)\n",
        "for i in t.columns:\n",
        "  data[i] = t[i]\n",
        "  data[i] = data[i].fillna(0).astype(int)\n",
        "\n",
        "# Last Updated\n",
        "data['Days from Update'] = (pd.to_datetime('2020-06-18') - pd.to_datetime(data['Last Updated'])).map(lambda x: str(x)[:str(x).find(' ')]).astype(int)\n",
        "\n",
        "# Android Ver\n",
        "temp = data['Android Ver'].map(lambda x: str(x)[:(str(x).find('.')+2)])\n",
        "temp[(temp == 'V') | (temp == 'n')] = '4.0'\n",
        "data = pd.concat([data, pd.get_dummies(temp)], axis=1)\n",
        "data['Updating'] = 1\n",
        "data.Updating[data['Android Ver'].map(lambda x: str(x).find('-') > 0)] = 0"
      ],
      "execution_count": null,
      "outputs": []
    },
    {
      "cell_type": "markdown",
      "metadata": {
        "id": "EQ-L_fhV01tk",
        "colab_type": "text"
      },
      "source": [
        "###### 모델링"
      ]
    },
    {
      "cell_type": "code",
      "metadata": {
        "id": "EgPW7iLGAuzB",
        "colab_type": "code",
        "colab": {}
      },
      "source": [
        "# X, y 나누기\n",
        "train = data.drop(['Category','Rating','Type','Content Rating','Genres','Last Updated','Current Ver','Android Ver'], axis=1)\n",
        "test = data.Rating"
      ],
      "execution_count": null,
      "outputs": []
    },
    {
      "cell_type": "code",
      "metadata": {
        "id": "I0Tyl4UGEDJF",
        "colab_type": "code",
        "colab": {}
      },
      "source": [
        "score = 0\n",
        "kf = KFold(n_splits=3, random_state=2020)\n",
        "for train_index, valid_index in kf.split(train):\n",
        "  train_X, train_y = train.iloc[train_index], test[train_index]\n",
        "  valid_X, valid_y = train.iloc[valid_index], test[valid_index]\n",
        "  \n",
        "  model = LinearRegression().fit(train_X, train_y)\n",
        "    \n",
        "  pred = model.predict(valid_X)\n",
        "  pred[pred < 1] = 1.0\n",
        "  pred[pred > 5] = 5.0\n",
        "  score += metrics.mean_squared_error(valid_y, pred)/3"
      ],
      "execution_count": null,
      "outputs": []
    },
    {
      "cell_type": "code",
      "metadata": {
        "id": "hvgo5cSnEDD9",
        "colab_type": "code",
        "colab": {
          "base_uri": "https://localhost:8080/",
          "height": 34
        },
        "outputId": "dc0a6828-7655-44cd-fce1-f9e578b5a02c"
      },
      "source": [
        "#mae\n",
        "score"
      ],
      "execution_count": null,
      "outputs": [
        {
          "output_type": "execute_result",
          "data": {
            "text/plain": [
              "0.3594523771702236"
            ]
          },
          "metadata": {
            "tags": []
          },
          "execution_count": 6
        }
      ]
    },
    {
      "cell_type": "code",
      "metadata": {
        "id": "fZVz86veFiMg",
        "colab_type": "code",
        "colab": {
          "base_uri": "https://localhost:8080/",
          "height": 34
        },
        "outputId": "6501c16b-0c6f-4d49-b501-a44aa1f82cc3"
      },
      "source": [
        "#mse\n",
        "score"
      ],
      "execution_count": null,
      "outputs": [
        {
          "output_type": "execute_result",
          "data": {
            "text/plain": [
              "0.2597908662769356"
            ]
          },
          "metadata": {
            "tags": []
          },
          "execution_count": 9
        }
      ]
    },
    {
      "cell_type": "code",
      "metadata": {
        "id": "ggwwl9V4Fp-0",
        "colab_type": "code",
        "colab": {
          "base_uri": "https://localhost:8080/",
          "height": 175
        },
        "outputId": "ce28c694-efc1-4536-b1e5-b7c9efa0f10d"
      },
      "source": [
        "score = 0\n",
        "kf = KFold(n_splits=3, random_state=2020)\n",
        "for train_index, valid_index in kf.split(train):\n",
        "  train_X, train_y = train.iloc[train_index], test[train_index]\n",
        "  valid_X, valid_y = train.iloc[valid_index], test[valid_index]\n",
        "  \n",
        "  model = lgb.LGBMRegressor(n_estimators=25000)\n",
        "  model.fit(train_X, train_y, \n",
        "            eval_set=(valid_X, valid_y), \n",
        "            eval_metric='l2',\n",
        "            early_stopping_rounds=5000, \n",
        "            verbose=25000)\n",
        "    \n",
        "  pred = model.predict(valid_X)\n",
        "  score += metrics.mean_squared_error(valid_y, pred)/3"
      ],
      "execution_count": null,
      "outputs": [
        {
          "output_type": "stream",
          "text": [
            "Training until validation scores don't improve for 5000 rounds.\n",
            "Early stopping, best iteration is:\n",
            "[50]\tvalid_0's l2: 0.133365\tvalid_0's l2: 0.133365\n",
            "Training until validation scores don't improve for 5000 rounds.\n",
            "Early stopping, best iteration is:\n",
            "[49]\tvalid_0's l2: 0.289559\tvalid_0's l2: 0.289559\n",
            "Training until validation scores don't improve for 5000 rounds.\n",
            "Early stopping, best iteration is:\n",
            "[20]\tvalid_0's l2: 0.339037\tvalid_0's l2: 0.339037\n"
          ],
          "name": "stdout"
        }
      ]
    },
    {
      "cell_type": "code",
      "metadata": {
        "id": "TEci-huIINkS",
        "colab_type": "code",
        "colab": {
          "base_uri": "https://localhost:8080/",
          "height": 34
        },
        "outputId": "7548d00f-353c-4b80-c002-a1faccc4de94"
      },
      "source": [
        "#mae\n",
        "score"
      ],
      "execution_count": null,
      "outputs": [
        {
          "output_type": "execute_result",
          "data": {
            "text/plain": [
              "0.34977530850441896"
            ]
          },
          "metadata": {
            "tags": []
          },
          "execution_count": 25
        }
      ]
    },
    {
      "cell_type": "code",
      "metadata": {
        "id": "UxLWrOE8INZw",
        "colab_type": "code",
        "colab": {
          "base_uri": "https://localhost:8080/",
          "height": 34
        },
        "outputId": "4ad2bb90-d9e3-4a65-f232-4a10a7b7a3b3"
      },
      "source": [
        "#mse\n",
        "score"
      ],
      "execution_count": null,
      "outputs": [
        {
          "output_type": "execute_result",
          "data": {
            "text/plain": [
              "0.2539871107941873"
            ]
          },
          "metadata": {
            "tags": []
          },
          "execution_count": 36
        }
      ]
    },
    {
      "cell_type": "code",
      "metadata": {
        "id": "r0Iq4q6KKhol",
        "colab_type": "code",
        "colab": {}
      },
      "source": [
        "atv = ELU(alpha=1.0)\n",
        "model = Sequential()\n",
        "model.add(Dense(units=120, activation=atv, input_dim=120))\n",
        "model.add(Dense(units=128, activation=atv))\n",
        "model.add(Dense(units=128, activation=atv))\n",
        "model.add(Dense(units=16, activation=atv))\n",
        "model.add(Dense(units=8, activation=atv))\n",
        "model.add(Dense(units=1, activation='linear'))\n",
        "model.compile(loss='mae', optimizer='adam', metrics=['mae'])\n",
        "\n",
        "score = 0\n",
        "kf = KFold(n_splits=3, random_state=2020)\n",
        "for train_index, valid_index in kf.split(train):\n",
        "  train_X, train_y = train.iloc[train_index], test[train_index]\n",
        "  valid_X, valid_y = train.iloc[valid_index], test[valid_index]\n",
        "    \n",
        "  model.fit(train_X, train_y, epochs=2000, batch_size=25000, validation_data=(valid_X, valid_y), verbose=0)\n",
        "    \n",
        "  pred = model.predict(valid_X)\n",
        "  pred[pred < 1] = 1\n",
        "  pred[pred > 5] = 5\n",
        "  score += metrics.mean_absolute_error(valid_y, pred)/3"
      ],
      "execution_count": null,
      "outputs": []
    },
    {
      "cell_type": "code",
      "metadata": {
        "id": "ai9cevI1VokO",
        "colab_type": "code",
        "colab": {
          "base_uri": "https://localhost:8080/",
          "height": 34
        },
        "outputId": "e12c5d7e-ed27-4b9a-d418-49f57eec3266"
      },
      "source": [
        "#mae\n",
        "score"
      ],
      "execution_count": null,
      "outputs": [
        {
          "output_type": "execute_result",
          "data": {
            "text/plain": [
              "0.6796749738299924"
            ]
          },
          "metadata": {
            "tags": []
          },
          "execution_count": 109
        }
      ]
    },
    {
      "cell_type": "code",
      "metadata": {
        "id": "Y9Cs9ljvXgA-",
        "colab_type": "code",
        "colab": {}
      },
      "source": [
        "atv = ELU(alpha=1.0)\n",
        "model = Sequential()\n",
        "model.add(Dense(units=120, activation=atv, input_dim=120))\n",
        "model.add(Dense(units=128, activation=atv))\n",
        "model.add(Dense(units=128, activation=atv))\n",
        "model.add(Dense(units=16, activation=atv))\n",
        "model.add(Dense(units=8, activation=atv))\n",
        "model.add(Dense(units=1, activation='linear'))\n",
        "model.compile(loss='mse', optimizer='adam', metrics=['mse'])\n",
        "\n",
        "score = 0\n",
        "kf = KFold(n_splits=3, random_state=2020)\n",
        "for train_index, valid_index in kf.split(train):\n",
        "  train_X, train_y = train.iloc[train_index], test[train_index]\n",
        "  valid_X, valid_y = train.iloc[valid_index], test[valid_index]\n",
        "    \n",
        "  model.fit(train_X, train_y, epochs=2000, batch_size=25000, validation_data=(valid_X, valid_y), verbose=0)\n",
        "    \n",
        "  pred = model.predict(valid_X)\n",
        "  pred[pred < 1] = 1\n",
        "  pred[pred > 5] = 5\n",
        "  score += metrics.mean_squared_error(valid_y, pred)/3"
      ],
      "execution_count": null,
      "outputs": []
    },
    {
      "cell_type": "code",
      "metadata": {
        "id": "cWhB--OHXfwX",
        "colab_type": "code",
        "colab": {
          "base_uri": "https://localhost:8080/",
          "height": 34
        },
        "outputId": "fa34ae0f-df2f-402c-963e-00eac7942bee"
      },
      "source": [
        "#mse\n",
        "score"
      ],
      "execution_count": null,
      "outputs": [
        {
          "output_type": "execute_result",
          "data": {
            "text/plain": [
              "0.37766186755911757"
            ]
          },
          "metadata": {
            "tags": []
          },
          "execution_count": 59
        }
      ]
    },
    {
      "cell_type": "code",
      "metadata": {
        "id": "DqVaschfJfCO",
        "colab_type": "code",
        "colab": {
          "base_uri": "https://localhost:8080/",
          "height": 136
        },
        "outputId": "467913a2-52ca-4824-9f83-46d43346da72"
      },
      "source": [
        "plt.figure(figsize=(3,1))\n",
        "plt.title('MAE')\n",
        "plt.barh(['③ Neural Network','② Decision Tree','① Linear Regression'],[0.621, 0.349, 0.359], color='#ffbc00')\n",
        "plt.box(False)\n",
        "plt.text(0.621+0.025, -0.25, '0.621')\n",
        "plt.text(0.349+0.025, 0.75, '0.349')\n",
        "plt.text(0.359+0.025, 1.75, '0.359')"
      ],
      "execution_count": null,
      "outputs": [
        {
          "output_type": "execute_result",
          "data": {
            "text/plain": [
              "Text(0.384, 1.75, '0.359')"
            ]
          },
          "metadata": {
            "tags": []
          },
          "execution_count": 116
        },
        {
          "output_type": "display_data",
          "data": {
            "image/png": "[encoded data removed]",
            "text/plain": [
              "<Figure size 216x72 with 1 Axes>"
            ]
          },
          "metadata": {
            "tags": [],
            "needs_background": "light"
          }
        }
      ]
    },
    {
      "cell_type": "code",
      "metadata": {
        "id": "WuajTj9XJe_G",
        "colab_type": "code",
        "colab": {
          "base_uri": "https://localhost:8080/",
          "height": 136
        },
        "outputId": "66f54ee5-e13b-41a5-bea2-83897de5a251"
      },
      "source": [
        "plt.figure(figsize=(3,1))\n",
        "plt.title('MSE')\n",
        "plt.barh(['③ Neural Network','② Decision Tree','① Linear Regression'],[0.377, 0.253, 0.259], color='#ffbc00')\n",
        "plt.box(False)\n",
        "plt.text(0.377+0.025, -0.25, '0.377')\n",
        "plt.text(0.253+0.025, 0.75, '0.253')\n",
        "plt.text(0.259+0.025, 1.75, '0.259')"
      ],
      "execution_count": null,
      "outputs": [
        {
          "output_type": "execute_result",
          "data": {
            "text/plain": [
              "Text(0.28400000000000003, 1.75, '0.259')"
            ]
          },
          "metadata": {
            "tags": []
          },
          "execution_count": 117
        },
        {
          "output_type": "display_data",
          "data": {
            "image/png": "[encoded data removed]",
            "text/plain": [
              "<Figure size 216x72 with 1 Axes>"
            ]
          },
          "metadata": {
            "tags": [],
            "needs_background": "light"
          }
        }
      ]
    },
    {
      "cell_type": "markdown",
      "metadata": {
        "id": "VvN7-56P4Mo8",
        "colab_type": "text"
      },
      "source": [
        "###### 최적화"
      ]
    },
    {
      "cell_type": "code",
      "metadata": {
        "id": "xz357urGYPVq",
        "colab_type": "code",
        "colab": {
          "base_uri": "https://localhost:8080/",
          "height": 175
        },
        "outputId": "7086109b-ec20-421f-cebe-cff1169e9300"
      },
      "source": [
        "score = 0\n",
        "kf = KFold(n_splits=3, shuffle=True, random_state=2020)\n",
        "for train_index, valid_index in kf.split(train):\n",
        "  train_X, train_y = train.iloc[train_index], test[train_index]\n",
        "  valid_X, valid_y = train.iloc[valid_index], test[valid_index]\n",
        "  \n",
        "  model = lgb.LGBMRegressor(n_estimators=25000,\n",
        "                            num_leaves=900,\n",
        "                            learning_rate=0.03,\n",
        "                            colsample_bytree=0.3,\n",
        "                            reg_alpha=2,\n",
        "                            reg_lambda=49)\n",
        "  model.fit(train_X, train_y, \n",
        "            eval_set=(valid_X, valid_y), \n",
        "            eval_metric='l1',\n",
        "            early_stopping_rounds=5000, \n",
        "            verbose=25000)\n",
        "    \n",
        "  pred = model.predict(valid_X)\n",
        "  score += metrics.mean_absolute_error(valid_y, pred)/3"
      ],
      "execution_count": null,
      "outputs": [
        {
          "output_type": "stream",
          "text": [
            "Training until validation scores don't improve for 5000 rounds.\n",
            "Early stopping, best iteration is:\n",
            "[423]\tvalid_0's l2: 0.241716\tvalid_0's l1: 0.344918\n",
            "Training until validation scores don't improve for 5000 rounds.\n",
            "Early stopping, best iteration is:\n",
            "[501]\tvalid_0's l2: 0.261266\tvalid_0's l1: 0.349509\n",
            "Training until validation scores don't improve for 5000 rounds.\n",
            "Early stopping, best iteration is:\n",
            "[653]\tvalid_0's l2: 0.240555\tvalid_0's l1: 0.341961\n"
          ],
          "name": "stdout"
        }
      ]
    },
    {
      "cell_type": "code",
      "metadata": {
        "id": "42tQGcHEYPSY",
        "colab_type": "code",
        "colab": {
          "base_uri": "https://localhost:8080/",
          "height": 34
        },
        "outputId": "f4001b5b-16a1-476e-bdbd-2aa83f279c82"
      },
      "source": [
        "# mae\n",
        "score"
      ],
      "execution_count": null,
      "outputs": [
        {
          "output_type": "execute_result",
          "data": {
            "text/plain": [
              "0.3454626206812669"
            ]
          },
          "metadata": {
            "tags": []
          },
          "execution_count": 159
        }
      ]
    },
    {
      "cell_type": "code",
      "metadata": {
        "id": "v5YBZbtNFQlt",
        "colab_type": "code",
        "colab": {
          "base_uri": "https://localhost:8080/",
          "height": 175
        },
        "outputId": "e96a129a-afd5-4889-efec-c4e94f442d2b"
      },
      "source": [
        "score = 0\n",
        "kf = KFold(n_splits=3, shuffle=True, random_state=2020)\n",
        "for train_index, valid_index in kf.split(train):\n",
        "  train_X, train_y = train.iloc[train_index], test[train_index]\n",
        "  valid_X, valid_y = train.iloc[valid_index], test[valid_index]\n",
        "  \n",
        "  model = lgb.LGBMRegressor(n_estimators=25000,\n",
        "                            num_leaves=900,\n",
        "                            learning_rate=0.03,\n",
        "                            colsample_bytree=0.3,\n",
        "                            reg_alpha=2,\n",
        "                            reg_lambda=49)\n",
        "  model.fit(train_X, train_y, \n",
        "            eval_set=(valid_X, valid_y), \n",
        "            eval_metric='l2',\n",
        "            early_stopping_rounds=5000, \n",
        "            verbose=25000)\n",
        "    \n",
        "  pred = model.predict(valid_X)\n",
        "  score += metrics.mean_squared_error(valid_y, pred)/3"
      ],
      "execution_count": null,
      "outputs": [
        {
          "output_type": "stream",
          "text": [
            "Training until validation scores don't improve for 5000 rounds.\n",
            "Early stopping, best iteration is:\n",
            "[423]\tvalid_0's l2: 0.241716\tvalid_0's l2: 0.241716\n",
            "Training until validation scores don't improve for 5000 rounds.\n",
            "Early stopping, best iteration is:\n",
            "[501]\tvalid_0's l2: 0.261266\tvalid_0's l2: 0.261266\n",
            "Training until validation scores don't improve for 5000 rounds.\n",
            "Early stopping, best iteration is:\n",
            "[653]\tvalid_0's l2: 0.240555\tvalid_0's l2: 0.240555\n"
          ],
          "name": "stdout"
        }
      ]
    },
    {
      "cell_type": "code",
      "metadata": {
        "id": "TCSWTMa8W4u7",
        "colab_type": "code",
        "colab": {
          "base_uri": "https://localhost:8080/",
          "height": 34
        },
        "outputId": "7cbdef66-e6e9-481e-df66-cd12a8f8f569"
      },
      "source": [
        "# mse\n",
        "score"
      ],
      "execution_count": null,
      "outputs": [
        {
          "output_type": "execute_result",
          "data": {
            "text/plain": [
              "0.24784562807123306"
            ]
          },
          "metadata": {
            "tags": []
          },
          "execution_count": 161
        }
      ]
    },
    {
      "cell_type": "code",
      "metadata": {
        "id": "ei0nK-CHW4oJ",
        "colab_type": "code",
        "colab": {
          "base_uri": "https://localhost:8080/",
          "height": 146
        },
        "outputId": "ceb23eb8-6f7f-4259-8f22-32f988e0ac60"
      },
      "source": [
        "plt.figure(figsize=(3,1.5))\n",
        "plt.barh([' Optimized',' Baseline','Optimized','Baseline'],[0.247, 0.2523, 0.345, 0.349], color=['#ffbc00','#e6e6e6','#ffbc00','#e6e6e6'])\n",
        "plt.box(False)\n",
        "plt.text(0.247+0.025, -0.25, '0.247')\n",
        "plt.text(0.253+0.025, 0.75, '0.253')\n",
        "plt.text(0.345+0.025, 1.75, '0.345')\n",
        "plt.text(0.349+0.025, 2.75, '0.349')"
      ],
      "execution_count": null,
      "outputs": [
        {
          "output_type": "execute_result",
          "data": {
            "text/plain": [
              "Text(0.374, 2.75, '0.349')"
            ]
          },
          "metadata": {
            "tags": []
          },
          "execution_count": 162
        },
        {
          "output_type": "display_data",
          "data": {
            "image/png": "[encoded data removed]",
            "text/plain": [
              "<Figure size 216x108 with 1 Axes>"
            ]
          },
          "metadata": {
            "tags": [],
            "needs_background": "light"
          }
        }
      ]
    },
    {
      "cell_type": "code",
      "metadata": {
        "id": "8x2cV_PgJFE4",
        "colab_type": "code",
        "colab": {}
      },
      "source": [
        "atv = ELU(alpha=3.0)\n",
        "model = Sequential()\n",
        "model.add(Dense(units=120, activation=atv, input_dim=120))\n",
        "model.add(Dense(units=128, activation=atv))\n",
        "model.add(Dense(units=128, activation=atv))\n",
        "model.add(Dense(units=128, activation=atv))\n",
        "model.add(Dense(units=128, activation=atv))\n",
        "model.add(Dense(units=128, activation=atv))\n",
        "model.add(Dense(units=128, activation=atv))\n",
        "model.add(Dense(units=64, activation=atv))\n",
        "model.add(Dense(units=16, activation=atv))\n",
        "model.add(Dense(units=1, activation='linear'))\n",
        "model.compile(loss='mae', optimizer='adam', metrics=['mae'])\n",
        "\n",
        "score = 0\n",
        "kf = KFold(n_splits=3, shuffle=True, random_state=2020)\n",
        "for train_index, valid_index in kf.split(train):\n",
        "  train_X, train_y = train.iloc[train_index], test[train_index]\n",
        "  valid_X, valid_y = train.iloc[valid_index], test[valid_index]\n",
        "    \n",
        "  model.fit(train_X, train_y, epochs=2000, batch_size=25000, validation_data=(valid_X, valid_y), verbose=0)\n",
        "    \n",
        "  pred = model.predict(valid_X)\n",
        "  pred[pred < 1] = 1\n",
        "  pred[pred > 5] = 5\n",
        "  score += metrics.mean_absolute_error(valid_y, pred)/3"
      ],
      "execution_count": null,
      "outputs": []
    },
    {
      "cell_type": "code",
      "metadata": {
        "id": "_ZcDVdrDJID1",
        "colab_type": "code",
        "colab": {
          "base_uri": "https://localhost:8080/",
          "height": 34
        },
        "outputId": "c101f51e-417d-4673-9dd3-f2f7a5b83010"
      },
      "source": [
        "# mae\n",
        "score"
      ],
      "execution_count": null,
      "outputs": [
        {
          "output_type": "execute_result",
          "data": {
            "text/plain": [
              "0.36996589949043296"
            ]
          },
          "metadata": {
            "tags": []
          },
          "execution_count": 151
        }
      ]
    },
    {
      "cell_type": "code",
      "metadata": {
        "id": "odMEjHX9JH-N",
        "colab_type": "code",
        "colab": {}
      },
      "source": [
        "atv = ELU(alpha=3.0)\n",
        "model = Sequential()\n",
        "model.add(Dense(units=120, activation=atv, input_dim=120))\n",
        "model.add(Dense(units=128, activation=atv))\n",
        "model.add(Dense(units=128, activation=atv))\n",
        "model.add(Dense(units=128, activation=atv))\n",
        "model.add(Dense(units=128, activation=atv))\n",
        "model.add(Dense(units=128, activation=atv))\n",
        "model.add(Dense(units=128, activation=atv))\n",
        "model.add(Dense(units=64, activation=atv))\n",
        "model.add(Dense(units=16, activation=atv))\n",
        "model.add(Dense(units=1, activation='linear'))\n",
        "model.compile(loss='mse', optimizer='adam', metrics=['mse'])\n",
        "\n",
        "score = 0\n",
        "kf = KFold(n_splits=3, shuffle=True, random_state=2020)\n",
        "for train_index, valid_index in kf.split(train):\n",
        "  train_X, train_y = train.iloc[train_index], test[train_index]\n",
        "  valid_X, valid_y = train.iloc[valid_index], test[valid_index]\n",
        "    \n",
        "  model.fit(train_X, train_y, epochs=2000, batch_size=25000, validation_data=(valid_X, valid_y), verbose=0)\n",
        "    \n",
        "  pred = model.predict(valid_X)\n",
        "  pred[pred < 1] = 1\n",
        "  pred[pred > 5] = 5\n",
        "  score += metrics.mean_squared_error(valid_y, pred)/3"
      ],
      "execution_count": null,
      "outputs": []
    },
    {
      "cell_type": "code",
      "metadata": {
        "id": "qhcPk3yc8OGT",
        "colab_type": "code",
        "colab": {
          "base_uri": "https://localhost:8080/",
          "height": 34
        },
        "outputId": "67120cde-05b3-42cd-fa68-6d647dc9ccef"
      },
      "source": [
        "# mse\n",
        "score"
      ],
      "execution_count": null,
      "outputs": [
        {
          "output_type": "execute_result",
          "data": {
            "text/plain": [
              "0.3571828275302837"
            ]
          },
          "metadata": {
            "tags": []
          },
          "execution_count": 153
        }
      ]
    },
    {
      "cell_type": "code",
      "metadata": {
        "id": "AhNUiZqu8ODp",
        "colab_type": "code",
        "colab": {
          "base_uri": "https://localhost:8080/",
          "height": 146
        },
        "outputId": "36c61cab-630d-4229-fa0a-0435e6e3f754"
      },
      "source": [
        "plt.figure(figsize=(3,1.5))\n",
        "plt.barh([' Optimized',' Baseline','Optimized','Baseline'],[0.357, 0.377, 0.369, 0.621], color=['#ffbc00','#e6e6e6','#ffbc00','#e6e6e6'])\n",
        "plt.box(False)\n",
        "plt.text(0.357+0.025, -0.25, '0.357')\n",
        "plt.text(0.377+0.025, 0.75, '0.377')\n",
        "plt.text(0.369+0.025, 1.75, '0.369')\n",
        "plt.text(0.621+0.025, 2.75, '0.621')"
      ],
      "execution_count": null,
      "outputs": [
        {
          "output_type": "execute_result",
          "data": {
            "text/plain": [
              "Text(0.646, 2.75, '0.621')"
            ]
          },
          "metadata": {
            "tags": []
          },
          "execution_count": 157
        },
        {
          "output_type": "display_data",
          "data": {
            "image/png": "[encoded data removed]",
            "text/plain": [
              "<Figure size 216x108 with 1 Axes>"
            ]
          },
          "metadata": {
            "tags": [],
            "needs_background": "light"
          }
        }
      ]
    },
    {
      "cell_type": "markdown",
      "metadata": {
        "id": "m1oFyusEdxJN",
        "colab_type": "text"
      },
      "source": [
        "###### 앙상블"
      ]
    },
    {
      "cell_type": "code",
      "metadata": {
        "id": "45rioGNejRti",
        "colab_type": "code",
        "colab": {}
      },
      "source": [
        "  model = LinearRegression().fit(train_X, train_y)\n",
        "    \n",
        "  pred1 = model.predict(valid_X)\n",
        "  pred1[pred < 1] = 1.0\n",
        "  pred1[pred > 5] = 5.0"
      ],
      "execution_count": null,
      "outputs": []
    },
    {
      "cell_type": "code",
      "metadata": {
        "id": "ueU7EU2wjRoZ",
        "colab_type": "code",
        "colab": {
          "base_uri": "https://localhost:8080/",
          "height": 70
        },
        "outputId": "4e512ba2-2f3e-40ca-895d-21268b013925"
      },
      "source": [
        "  model = lgb.LGBMRegressor(n_estimators=25000,\n",
        "                            num_leaves=900,\n",
        "                            learning_rate=0.03,\n",
        "                            colsample_bytree=0.3,\n",
        "                            reg_alpha=2,\n",
        "                            reg_lambda=49)\n",
        "  model.fit(train_X, train_y, \n",
        "            eval_set=(valid_X, valid_y), \n",
        "            eval_metric='l1',\n",
        "            early_stopping_rounds=5000, \n",
        "            verbose=25000)\n",
        "    \n",
        "  pred2 = model.predict(valid_X)"
      ],
      "execution_count": null,
      "outputs": [
        {
          "output_type": "stream",
          "text": [
            "Training until validation scores don't improve for 5000 rounds.\n",
            "Early stopping, best iteration is:\n",
            "[653]\tvalid_0's l2: 0.240555\tvalid_0's l1: 0.341961\n"
          ],
          "name": "stdout"
        }
      ]
    },
    {
      "cell_type": "code",
      "metadata": {
        "id": "deivZ7qLjlG5",
        "colab_type": "code",
        "colab": {}
      },
      "source": [
        "atv = ELU(alpha=3.0)\n",
        "model = Sequential()\n",
        "model.add(Dense(units=120, activation=atv, input_dim=120))\n",
        "model.add(Dense(units=128, activation=atv))\n",
        "model.add(Dense(units=128, activation=atv))\n",
        "model.add(Dense(units=128, activation=atv))\n",
        "model.add(Dense(units=128, activation=atv))\n",
        "model.add(Dense(units=128, activation=atv))\n",
        "model.add(Dense(units=128, activation=atv))\n",
        "model.add(Dense(units=64, activation=atv))\n",
        "model.add(Dense(units=16, activation=atv))\n",
        "model.add(Dense(units=1, activation='linear'))\n",
        "model.compile(loss='mae', optimizer='adam', metrics=['mae'])\n",
        "\n",
        "model.fit(train_X, train_y, epochs=2000, batch_size=25000, validation_data=(valid_X, valid_y), verbose=0)\n",
        "    \n",
        "pred3 = model.predict(valid_X)\n",
        "pred3[pred < 1] = 1\n",
        "pred3[pred > 5] = 5"
      ],
      "execution_count": null,
      "outputs": []
    },
    {
      "cell_type": "code",
      "metadata": {
        "id": "YcpsKMkBj2_j",
        "colab_type": "code",
        "colab": {
          "base_uri": "https://localhost:8080/",
          "height": 87
        },
        "outputId": "c23c87e1-3513-4315-a191-2dbbe4c680a8"
      },
      "source": [
        "print(metrics.mean_absolute_error(valid_y, pred1))\n",
        "print(metrics.mean_absolute_error(valid_y, pred2))\n",
        "pred3 = [x for y in pred3 for x in y]\n",
        "print(metrics.mean_absolute_error(valid_y, pred3))\n",
        "print(metrics.mean_absolute_error(valid_y, (pred1+pred2+pred3)/3))"
      ],
      "execution_count": null,
      "outputs": [
        {
          "output_type": "stream",
          "text": [
            "0.3392974393953571\n",
            "0.34196106444711005\n",
            "0.36248465329244717\n",
            "0.33311320131128586\n"
          ],
          "name": "stdout"
        }
      ]
    },
    {
      "cell_type": "code",
      "metadata": {
        "id": "sWBG13jhj291",
        "colab_type": "code",
        "colab": {
          "base_uri": "https://localhost:8080/",
          "height": 146
        },
        "outputId": "626676fd-90c5-4952-8458-ba3a1da50b72"
      },
      "source": [
        "plt.figure(figsize=(3,1.5))\n",
        "plt.barh(['Stacked','Neural Network','Decision Tree','Linear Regression'],[0.333,0.362,0.341,0.339], color=['#ffbc00','#e6e6e6','#e6e6e6','#e6e6e6'])\n",
        "plt.box(False)\n",
        "plt.text(0.333+0.025, -0.25, '0.333')\n",
        "plt.text(0.362+0.025, 0.75, '0.362')\n",
        "plt.text(0.341+0.025, 1.75, '0.341')\n",
        "plt.text(0.339+0.025, 2.75, '0.339')"
      ],
      "execution_count": null,
      "outputs": [
        {
          "output_type": "execute_result",
          "data": {
            "text/plain": [
              "Text(0.36400000000000005, 2.75, '0.339')"
            ]
          },
          "metadata": {
            "tags": []
          },
          "execution_count": 203
        },
        {
          "output_type": "display_data",
          "data": {
            "image/png": "[encoded data removed]",
            "text/plain": [
              "<Figure size 216x108 with 1 Axes>"
            ]
          },
          "metadata": {
            "tags": [],
            "needs_background": "light"
          }
        }
      ]
    },
    {
      "cell_type": "code",
      "metadata": {
        "id": "5rh_7ye_j271",
        "colab_type": "code",
        "colab": {
          "base_uri": "https://localhost:8080/",
          "height": 70
        },
        "outputId": "848d3080-712f-4c62-bc61-8d1775f56e51"
      },
      "source": [
        "  model = lgb.LGBMRegressor(n_estimators=25000,\n",
        "                            num_leaves=900,\n",
        "                            learning_rate=0.03,\n",
        "                            colsample_bytree=0.3,\n",
        "                            reg_alpha=2,\n",
        "                            reg_lambda=49)\n",
        "  model.fit(train_X, train_y, \n",
        "            eval_set=(valid_X, valid_y), \n",
        "            eval_metric='l2',\n",
        "            early_stopping_rounds=5000, \n",
        "            verbose=25000)\n",
        "    \n",
        "  pred2 = model.predict(valid_X)"
      ],
      "execution_count": null,
      "outputs": [
        {
          "output_type": "stream",
          "text": [
            "Training until validation scores don't improve for 5000 rounds.\n",
            "Early stopping, best iteration is:\n",
            "[653]\tvalid_0's l2: 0.240555\tvalid_0's l2: 0.240555\n"
          ],
          "name": "stdout"
        }
      ]
    },
    {
      "cell_type": "code",
      "metadata": {
        "id": "eupNkda5kWsg",
        "colab_type": "code",
        "colab": {}
      },
      "source": [
        "atv = ELU(alpha=3.0)\n",
        "model = Sequential()\n",
        "model.add(Dense(units=120, activation=atv, input_dim=120))\n",
        "model.add(Dense(units=128, activation=atv))\n",
        "model.add(Dense(units=128, activation=atv))\n",
        "model.add(Dense(units=128, activation=atv))\n",
        "model.add(Dense(units=128, activation=atv))\n",
        "model.add(Dense(units=128, activation=atv))\n",
        "model.add(Dense(units=128, activation=atv))\n",
        "model.add(Dense(units=64, activation=atv))\n",
        "model.add(Dense(units=16, activation=atv))\n",
        "model.add(Dense(units=1, activation='linear'))\n",
        "model.compile(loss='mse', optimizer='adam', metrics=['mse'])\n",
        "\n",
        "model.fit(train_X, train_y, epochs=2000, batch_size=25000, validation_data=(valid_X, valid_y), verbose=0)\n",
        "    \n",
        "pred3 = model.predict(valid_X)\n",
        "pred3[pred < 1] = 1\n",
        "pred3[pred > 5] = 5"
      ],
      "execution_count": null,
      "outputs": []
    },
    {
      "cell_type": "code",
      "metadata": {
        "id": "taBVHE0hj26M",
        "colab_type": "code",
        "colab": {
          "base_uri": "https://localhost:8080/",
          "height": 87
        },
        "outputId": "81da06ed-d5c8-4ec5-fdeb-15f02939ff6b"
      },
      "source": [
        "print(metrics.mean_squared_error(valid_y, pred1))\n",
        "print(metrics.mean_squared_error(valid_y, pred2))\n",
        "pred3 = [x for y in pred3 for x in y]\n",
        "print(metrics.mean_squared_error(valid_y, pred3))\n",
        "print(metrics.mean_squared_error(valid_y, (pred1+pred2+pred3)/3))"
      ],
      "execution_count": null,
      "outputs": [
        {
          "output_type": "stream",
          "text": [
            "0.24014336938830033\n",
            "0.24055495289930556\n",
            "0.2779317244072464\n",
            "0.2381135854466412\n"
          ],
          "name": "stdout"
        }
      ]
    },
    {
      "cell_type": "code",
      "metadata": {
        "id": "X9IXCwnwj20l",
        "colab_type": "code",
        "colab": {
          "base_uri": "https://localhost:8080/",
          "height": 146
        },
        "outputId": "cf066385-006f-45b3-97d0-1b0eb9b5945b"
      },
      "source": [
        "plt.figure(figsize=(3,1.5))\n",
        "plt.barh(['Stacked','Neural Network','Decision Tree','Linear Regression'],[0.238,0.277,0.240,0.240], color=['#ffbc00','#e6e6e6','#e6e6e6','#e6e6e6'])\n",
        "plt.box(False)\n",
        "plt.text(0.238+0.025, -0.25, '0.238')\n",
        "plt.text(0.277+0.025, 0.75, '0.277')\n",
        "plt.text(0.240+0.025, 1.75, '0.240')\n",
        "plt.text(0.240+0.025, 2.75, '0.240')"
      ],
      "execution_count": null,
      "outputs": [
        {
          "output_type": "execute_result",
          "data": {
            "text/plain": [
              "Text(0.265, 2.75, '0.240')"
            ]
          },
          "metadata": {
            "tags": []
          },
          "execution_count": 209
        },
        {
          "output_type": "display_data",
          "data": {
            "image/png": "[encoded data removed]",
            "text/plain": [
              "<Figure size 216x108 with 1 Axes>"
            ]
          },
          "metadata": {
            "tags": [],
            "needs_background": "light"
          }
        }
      ]
    },
    {
      "cell_type": "code",
      "metadata": {
        "id": "XA7IgSZ_gsD9",
        "colab_type": "code",
        "colab": {}
      },
      "source": [
        ""
      ],
      "execution_count": null,
      "outputs": []
    },
    {
      "cell_type": "code",
      "metadata": {
        "id": "WQZ-FQXNskhh",
        "colab_type": "code",
        "colab": {}
      },
      "source": [
        "temp = {}\n",
        "for i in range(len(train_X.columns)):\n",
        "  temp[train_X.columns[i]] = model.feature_importances_[i]\n"
      ],
      "execution_count": null,
      "outputs": []
    },
    {
      "cell_type": "code",
      "metadata": {
        "id": "Oda6EAqdtTXe",
        "colab_type": "code",
        "colab": {}
      },
      "source": [
        "temp2 = sorted(temp, key=temp.get)"
      ],
      "execution_count": null,
      "outputs": []
    },
    {
      "cell_type": "code",
      "metadata": {
        "id": "S-LTOUPKs5eG",
        "colab_type": "code",
        "colab": {}
      },
      "source": [
        ""
      ],
      "execution_count": null,
      "outputs": []
    },
    {
      "cell_type": "code",
      "metadata": {
        "id": "3m1Cbl-1s5PX",
        "colab_type": "code",
        "colab": {}
      },
      "source": [
        ""
      ],
      "execution_count": null,
      "outputs": []
    },
    {
      "cell_type": "code",
      "metadata": {
        "id": "uh7SY1pVrp8O",
        "colab_type": "code",
        "colab": {
          "base_uri": "https://localhost:8080/",
          "height": 1000
        },
        "outputId": "c52aaee3-3bde-426b-a09a-a14a9c375e8e"
      },
      "source": [
        "plt.figure(figsize=(5,30))\n",
        "plt.barh(temp2, sorted(model.feature_importances_), color='#ffbc00')"
      ],
      "execution_count": null,
      "outputs": [
        {
          "output_type": "execute_result",
          "data": {
            "text/plain": [
              "<BarContainer object of 120 artists>"
            ]
          },
          "metadata": {
            "tags": []
          },
          "execution_count": 232
        },
        {
          "output_type": "display_data",
          "data": {
            "image/png": "[encoded data removed]",
            "text/plain": [
              "<Figure size 360x2160 with 1 Axes>"
            ]
          },
          "metadata": {
            "tags": [],
            "needs_background": "light"
          }
        }
      ]
    },
    {
      "cell_type": "code",
      "metadata": {
        "id": "ugukgge9v2H3",
        "colab_type": "code",
        "colab": {
          "base_uri": "https://localhost:8080/",
          "height": 34
        },
        "outputId": "e9ebcbf0-2eb4-463c-dfd2-d172497e6fe7"
      },
      "source": [
        "model.coef_[train_X.columns == 'Price']"
      ],
      "execution_count": null,
      "outputs": [
        {
          "output_type": "execute_result",
          "data": {
            "text/plain": [
              "array([-0.0662248])"
            ]
          },
          "metadata": {
            "tags": []
          },
          "execution_count": 243
        }
      ]
    },
    {
      "cell_type": "code",
      "metadata": {
        "id": "DIK2pCISgsBc",
        "colab_type": "code",
        "colab": {
          "base_uri": "https://localhost:8080/",
          "height": 1000
        },
        "outputId": "99487b07-d7f2-4a79-b00b-c1fdac6f9c88"
      },
      "source": [
        "plt.figure(figsize=(5,30))\n",
        "plt.barh(train_X.columns, model.coef_, color='#ffbc00')"
      ],
      "execution_count": null,
      "outputs": [
        {
          "output_type": "execute_result",
          "data": {
            "text/plain": [
              "<BarContainer object of 120 artists>"
            ]
          },
          "metadata": {
            "tags": []
          },
          "execution_count": 237
        },
        {
          "output_type": "display_data",
          "data": {
            "image/png": "[encoded data removed]",
            "text/plain": [
              "<Figure size 360x2160 with 1 Axes>"
            ]
          },
          "metadata": {
            "tags": [],
            "needs_background": "light"
          }
        }
      ]
    },
    {
      "cell_type": "code",
      "metadata": {
        "id": "t6gnbMP2gryT",
        "colab_type": "code",
        "colab": {}
      },
      "source": [
        ""
      ],
      "execution_count": null,
      "outputs": []
    },
    {
      "cell_type": "code",
      "metadata": {
        "id": "p8RY0aLs_qkA",
        "colab_type": "code",
        "colab": {}
      },
      "source": [
        "#ffbc00"
      ],
      "execution_count": null,
      "outputs": []
    }
  ]
}